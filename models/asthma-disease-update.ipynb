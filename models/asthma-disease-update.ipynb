{
 "cells": [
  {
   "cell_type": "code",
   "execution_count": 1,
   "id": "5076619d",
   "metadata": {
    "_cell_guid": "b1076dfc-b9ad-4769-8c92-a6c4dae69d19",
    "_uuid": "8f2839f25d086af736a60e9eeb907d3b93b6e0e5",
    "execution": {
     "iopub.execute_input": "2024-08-11T12:01:20.380211Z",
     "iopub.status.busy": "2024-08-11T12:01:20.379366Z",
     "iopub.status.idle": "2024-08-11T12:01:21.465711Z",
     "shell.execute_reply": "2024-08-11T12:01:21.464007Z"
    },
    "papermill": {
     "duration": 1.107565,
     "end_time": "2024-08-11T12:01:21.468701",
     "exception": false,
     "start_time": "2024-08-11T12:01:20.361136",
     "status": "completed"
    },
    "tags": []
   },
   "outputs": [
    {
     "name": "stdout",
     "output_type": "stream",
     "text": [
      "/kaggle/input/asthma-disease-prediction/processed-data.csv\n"
     ]
    }
   ],
   "source": [
    "# This Python 3 environment comes with many helpful analytics libraries installed\n",
    "# It is defined by the kaggle/python Docker image: https://github.com/kaggle/docker-python\n",
    "# For example, here's several helpful packages to load\n",
    "\n",
    "import numpy as np # linear algebra\n",
    "import pandas as pd # data processing, CSV file I/O (e.g. pd.read_csv)\n",
    "\n",
    "# Input data files are available in the read-only \"../input/\" directory\n",
    "# For example, running this (by clicking run or pressing Shift+Enter) will list all files under the input directory\n",
    "\n",
    "import os\n",
    "for dirname, _, filenames in os.walk('/kaggle/input'):\n",
    "    for filename in filenames:\n",
    "        print(os.path.join(dirname, filename))\n",
    "\n",
    "# You can write up to 20GB to the current directory (/kaggle/working/) that gets preserved as output when you create a version using \"Save & Run All\" \n",
    "# You can also write temporary files to /kaggle/temp/, but they won't be saved outside of the current session"
   ]
  },
  {
   "cell_type": "code",
   "execution_count": 2,
   "id": "9db5d8a4",
   "metadata": {
    "execution": {
     "iopub.execute_input": "2024-08-11T12:01:21.502432Z",
     "iopub.status.busy": "2024-08-11T12:01:21.501741Z",
     "iopub.status.idle": "2024-08-11T12:01:22.274086Z",
     "shell.execute_reply": "2024-08-11T12:01:22.272523Z"
    },
    "papermill": {
     "duration": 0.792997,
     "end_time": "2024-08-11T12:01:22.277524",
     "exception": false,
     "start_time": "2024-08-11T12:01:21.484527",
     "status": "completed"
    },
    "tags": []
   },
   "outputs": [],
   "source": [
    "df=pd.read_csv('/kaggle/input/asthma-disease-prediction/processed-data.csv')"
   ]
  },
  {
   "cell_type": "code",
   "execution_count": 3,
   "id": "2d181ec0",
   "metadata": {
    "execution": {
     "iopub.execute_input": "2024-08-11T12:01:22.314543Z",
     "iopub.status.busy": "2024-08-11T12:01:22.314040Z",
     "iopub.status.idle": "2024-08-11T12:01:22.352143Z",
     "shell.execute_reply": "2024-08-11T12:01:22.350756Z"
    },
    "papermill": {
     "duration": 0.061012,
     "end_time": "2024-08-11T12:01:22.355581",
     "exception": false,
     "start_time": "2024-08-11T12:01:22.294569",
     "status": "completed"
    },
    "tags": []
   },
   "outputs": [
    {
     "data": {
      "text/html": [
       "<div>\n",
       "<style scoped>\n",
       "    .dataframe tbody tr th:only-of-type {\n",
       "        vertical-align: middle;\n",
       "    }\n",
       "\n",
       "    .dataframe tbody tr th {\n",
       "        vertical-align: top;\n",
       "    }\n",
       "\n",
       "    .dataframe thead th {\n",
       "        text-align: right;\n",
       "    }\n",
       "</style>\n",
       "<table border=\"1\" class=\"dataframe\">\n",
       "  <thead>\n",
       "    <tr style=\"text-align: right;\">\n",
       "      <th></th>\n",
       "      <th>Tiredness</th>\n",
       "      <th>Dry-Cough</th>\n",
       "      <th>Difficulty-in-Breathing</th>\n",
       "      <th>Sore-Throat</th>\n",
       "      <th>None_Sympton</th>\n",
       "      <th>Pains</th>\n",
       "      <th>Nasal-Congestion</th>\n",
       "      <th>Runny-Nose</th>\n",
       "      <th>None_Experiencing</th>\n",
       "      <th>Age_0-9</th>\n",
       "      <th>Age_10-19</th>\n",
       "      <th>Age_20-24</th>\n",
       "      <th>Age_25-59</th>\n",
       "      <th>Age_60+</th>\n",
       "      <th>Gender_Female</th>\n",
       "      <th>Gender_Male</th>\n",
       "      <th>Severity_Mild</th>\n",
       "      <th>Severity_Moderate</th>\n",
       "      <th>Severity_None</th>\n",
       "    </tr>\n",
       "  </thead>\n",
       "  <tbody>\n",
       "    <tr>\n",
       "      <th>0</th>\n",
       "      <td>1</td>\n",
       "      <td>1</td>\n",
       "      <td>1</td>\n",
       "      <td>1</td>\n",
       "      <td>0</td>\n",
       "      <td>1</td>\n",
       "      <td>1</td>\n",
       "      <td>1</td>\n",
       "      <td>0</td>\n",
       "      <td>1</td>\n",
       "      <td>0</td>\n",
       "      <td>0</td>\n",
       "      <td>0</td>\n",
       "      <td>0</td>\n",
       "      <td>0</td>\n",
       "      <td>1</td>\n",
       "      <td>1</td>\n",
       "      <td>0</td>\n",
       "      <td>0</td>\n",
       "    </tr>\n",
       "    <tr>\n",
       "      <th>1</th>\n",
       "      <td>1</td>\n",
       "      <td>1</td>\n",
       "      <td>1</td>\n",
       "      <td>1</td>\n",
       "      <td>0</td>\n",
       "      <td>1</td>\n",
       "      <td>1</td>\n",
       "      <td>1</td>\n",
       "      <td>0</td>\n",
       "      <td>1</td>\n",
       "      <td>0</td>\n",
       "      <td>0</td>\n",
       "      <td>0</td>\n",
       "      <td>0</td>\n",
       "      <td>0</td>\n",
       "      <td>1</td>\n",
       "      <td>1</td>\n",
       "      <td>0</td>\n",
       "      <td>0</td>\n",
       "    </tr>\n",
       "    <tr>\n",
       "      <th>2</th>\n",
       "      <td>1</td>\n",
       "      <td>1</td>\n",
       "      <td>1</td>\n",
       "      <td>1</td>\n",
       "      <td>0</td>\n",
       "      <td>1</td>\n",
       "      <td>1</td>\n",
       "      <td>1</td>\n",
       "      <td>0</td>\n",
       "      <td>1</td>\n",
       "      <td>0</td>\n",
       "      <td>0</td>\n",
       "      <td>0</td>\n",
       "      <td>0</td>\n",
       "      <td>0</td>\n",
       "      <td>1</td>\n",
       "      <td>1</td>\n",
       "      <td>0</td>\n",
       "      <td>0</td>\n",
       "    </tr>\n",
       "    <tr>\n",
       "      <th>3</th>\n",
       "      <td>1</td>\n",
       "      <td>1</td>\n",
       "      <td>1</td>\n",
       "      <td>1</td>\n",
       "      <td>0</td>\n",
       "      <td>1</td>\n",
       "      <td>1</td>\n",
       "      <td>1</td>\n",
       "      <td>0</td>\n",
       "      <td>1</td>\n",
       "      <td>0</td>\n",
       "      <td>0</td>\n",
       "      <td>0</td>\n",
       "      <td>0</td>\n",
       "      <td>0</td>\n",
       "      <td>1</td>\n",
       "      <td>0</td>\n",
       "      <td>1</td>\n",
       "      <td>0</td>\n",
       "    </tr>\n",
       "    <tr>\n",
       "      <th>4</th>\n",
       "      <td>1</td>\n",
       "      <td>1</td>\n",
       "      <td>1</td>\n",
       "      <td>1</td>\n",
       "      <td>0</td>\n",
       "      <td>1</td>\n",
       "      <td>1</td>\n",
       "      <td>1</td>\n",
       "      <td>0</td>\n",
       "      <td>1</td>\n",
       "      <td>0</td>\n",
       "      <td>0</td>\n",
       "      <td>0</td>\n",
       "      <td>0</td>\n",
       "      <td>0</td>\n",
       "      <td>1</td>\n",
       "      <td>0</td>\n",
       "      <td>1</td>\n",
       "      <td>0</td>\n",
       "    </tr>\n",
       "    <tr>\n",
       "      <th>...</th>\n",
       "      <td>...</td>\n",
       "      <td>...</td>\n",
       "      <td>...</td>\n",
       "      <td>...</td>\n",
       "      <td>...</td>\n",
       "      <td>...</td>\n",
       "      <td>...</td>\n",
       "      <td>...</td>\n",
       "      <td>...</td>\n",
       "      <td>...</td>\n",
       "      <td>...</td>\n",
       "      <td>...</td>\n",
       "      <td>...</td>\n",
       "      <td>...</td>\n",
       "      <td>...</td>\n",
       "      <td>...</td>\n",
       "      <td>...</td>\n",
       "      <td>...</td>\n",
       "      <td>...</td>\n",
       "    </tr>\n",
       "    <tr>\n",
       "      <th>95</th>\n",
       "      <td>1</td>\n",
       "      <td>1</td>\n",
       "      <td>1</td>\n",
       "      <td>1</td>\n",
       "      <td>0</td>\n",
       "      <td>0</td>\n",
       "      <td>0</td>\n",
       "      <td>1</td>\n",
       "      <td>0</td>\n",
       "      <td>1</td>\n",
       "      <td>0</td>\n",
       "      <td>0</td>\n",
       "      <td>0</td>\n",
       "      <td>0</td>\n",
       "      <td>0</td>\n",
       "      <td>1</td>\n",
       "      <td>0</td>\n",
       "      <td>0</td>\n",
       "      <td>1</td>\n",
       "    </tr>\n",
       "    <tr>\n",
       "      <th>96</th>\n",
       "      <td>1</td>\n",
       "      <td>1</td>\n",
       "      <td>1</td>\n",
       "      <td>1</td>\n",
       "      <td>0</td>\n",
       "      <td>0</td>\n",
       "      <td>0</td>\n",
       "      <td>1</td>\n",
       "      <td>0</td>\n",
       "      <td>1</td>\n",
       "      <td>0</td>\n",
       "      <td>0</td>\n",
       "      <td>0</td>\n",
       "      <td>0</td>\n",
       "      <td>0</td>\n",
       "      <td>1</td>\n",
       "      <td>1</td>\n",
       "      <td>0</td>\n",
       "      <td>0</td>\n",
       "    </tr>\n",
       "    <tr>\n",
       "      <th>97</th>\n",
       "      <td>1</td>\n",
       "      <td>1</td>\n",
       "      <td>1</td>\n",
       "      <td>1</td>\n",
       "      <td>0</td>\n",
       "      <td>0</td>\n",
       "      <td>0</td>\n",
       "      <td>1</td>\n",
       "      <td>0</td>\n",
       "      <td>1</td>\n",
       "      <td>0</td>\n",
       "      <td>0</td>\n",
       "      <td>0</td>\n",
       "      <td>0</td>\n",
       "      <td>0</td>\n",
       "      <td>1</td>\n",
       "      <td>1</td>\n",
       "      <td>0</td>\n",
       "      <td>0</td>\n",
       "    </tr>\n",
       "    <tr>\n",
       "      <th>98</th>\n",
       "      <td>1</td>\n",
       "      <td>1</td>\n",
       "      <td>1</td>\n",
       "      <td>1</td>\n",
       "      <td>0</td>\n",
       "      <td>0</td>\n",
       "      <td>0</td>\n",
       "      <td>1</td>\n",
       "      <td>0</td>\n",
       "      <td>1</td>\n",
       "      <td>0</td>\n",
       "      <td>0</td>\n",
       "      <td>0</td>\n",
       "      <td>0</td>\n",
       "      <td>0</td>\n",
       "      <td>1</td>\n",
       "      <td>1</td>\n",
       "      <td>0</td>\n",
       "      <td>0</td>\n",
       "    </tr>\n",
       "    <tr>\n",
       "      <th>99</th>\n",
       "      <td>1</td>\n",
       "      <td>1</td>\n",
       "      <td>1</td>\n",
       "      <td>1</td>\n",
       "      <td>0</td>\n",
       "      <td>0</td>\n",
       "      <td>0</td>\n",
       "      <td>1</td>\n",
       "      <td>0</td>\n",
       "      <td>1</td>\n",
       "      <td>0</td>\n",
       "      <td>0</td>\n",
       "      <td>0</td>\n",
       "      <td>0</td>\n",
       "      <td>0</td>\n",
       "      <td>1</td>\n",
       "      <td>0</td>\n",
       "      <td>1</td>\n",
       "      <td>0</td>\n",
       "    </tr>\n",
       "  </tbody>\n",
       "</table>\n",
       "<p>100 rows × 19 columns</p>\n",
       "</div>"
      ],
      "text/plain": [
       "    Tiredness  Dry-Cough  Difficulty-in-Breathing  Sore-Throat  None_Sympton  \\\n",
       "0           1          1                        1            1             0   \n",
       "1           1          1                        1            1             0   \n",
       "2           1          1                        1            1             0   \n",
       "3           1          1                        1            1             0   \n",
       "4           1          1                        1            1             0   \n",
       "..        ...        ...                      ...          ...           ...   \n",
       "95          1          1                        1            1             0   \n",
       "96          1          1                        1            1             0   \n",
       "97          1          1                        1            1             0   \n",
       "98          1          1                        1            1             0   \n",
       "99          1          1                        1            1             0   \n",
       "\n",
       "    Pains  Nasal-Congestion  Runny-Nose  None_Experiencing  Age_0-9  \\\n",
       "0       1                 1           1                  0        1   \n",
       "1       1                 1           1                  0        1   \n",
       "2       1                 1           1                  0        1   \n",
       "3       1                 1           1                  0        1   \n",
       "4       1                 1           1                  0        1   \n",
       "..    ...               ...         ...                ...      ...   \n",
       "95      0                 0           1                  0        1   \n",
       "96      0                 0           1                  0        1   \n",
       "97      0                 0           1                  0        1   \n",
       "98      0                 0           1                  0        1   \n",
       "99      0                 0           1                  0        1   \n",
       "\n",
       "    Age_10-19  Age_20-24  Age_25-59  Age_60+  Gender_Female  Gender_Male  \\\n",
       "0           0          0          0        0              0            1   \n",
       "1           0          0          0        0              0            1   \n",
       "2           0          0          0        0              0            1   \n",
       "3           0          0          0        0              0            1   \n",
       "4           0          0          0        0              0            1   \n",
       "..        ...        ...        ...      ...            ...          ...   \n",
       "95          0          0          0        0              0            1   \n",
       "96          0          0          0        0              0            1   \n",
       "97          0          0          0        0              0            1   \n",
       "98          0          0          0        0              0            1   \n",
       "99          0          0          0        0              0            1   \n",
       "\n",
       "    Severity_Mild  Severity_Moderate  Severity_None  \n",
       "0               1                  0              0  \n",
       "1               1                  0              0  \n",
       "2               1                  0              0  \n",
       "3               0                  1              0  \n",
       "4               0                  1              0  \n",
       "..            ...                ...            ...  \n",
       "95              0                  0              1  \n",
       "96              1                  0              0  \n",
       "97              1                  0              0  \n",
       "98              1                  0              0  \n",
       "99              0                  1              0  \n",
       "\n",
       "[100 rows x 19 columns]"
      ]
     },
     "execution_count": 3,
     "metadata": {},
     "output_type": "execute_result"
    }
   ],
   "source": [
    "df.head(100)"
   ]
  },
  {
   "cell_type": "code",
   "execution_count": 4,
   "id": "75f8ee8a",
   "metadata": {
    "execution": {
     "iopub.execute_input": "2024-08-11T12:01:22.391086Z",
     "iopub.status.busy": "2024-08-11T12:01:22.390693Z",
     "iopub.status.idle": "2024-08-11T12:01:22.427501Z",
     "shell.execute_reply": "2024-08-11T12:01:22.426251Z"
    },
    "papermill": {
     "duration": 0.05809,
     "end_time": "2024-08-11T12:01:22.430602",
     "exception": false,
     "start_time": "2024-08-11T12:01:22.372512",
     "status": "completed"
    },
    "tags": []
   },
   "outputs": [
    {
     "name": "stdout",
     "output_type": "stream",
     "text": [
      "<class 'pandas.core.frame.DataFrame'>\n",
      "RangeIndex: 316800 entries, 0 to 316799\n",
      "Data columns (total 19 columns):\n",
      " #   Column                   Non-Null Count   Dtype\n",
      "---  ------                   --------------   -----\n",
      " 0   Tiredness                316800 non-null  int64\n",
      " 1   Dry-Cough                316800 non-null  int64\n",
      " 2   Difficulty-in-Breathing  316800 non-null  int64\n",
      " 3   Sore-Throat              316800 non-null  int64\n",
      " 4   None_Sympton             316800 non-null  int64\n",
      " 5   Pains                    316800 non-null  int64\n",
      " 6   Nasal-Congestion         316800 non-null  int64\n",
      " 7   Runny-Nose               316800 non-null  int64\n",
      " 8   None_Experiencing        316800 non-null  int64\n",
      " 9   Age_0-9                  316800 non-null  int64\n",
      " 10  Age_10-19                316800 non-null  int64\n",
      " 11  Age_20-24                316800 non-null  int64\n",
      " 12  Age_25-59                316800 non-null  int64\n",
      " 13  Age_60+                  316800 non-null  int64\n",
      " 14  Gender_Female            316800 non-null  int64\n",
      " 15  Gender_Male              316800 non-null  int64\n",
      " 16  Severity_Mild            316800 non-null  int64\n",
      " 17  Severity_Moderate        316800 non-null  int64\n",
      " 18  Severity_None            316800 non-null  int64\n",
      "dtypes: int64(19)\n",
      "memory usage: 45.9 MB\n"
     ]
    }
   ],
   "source": [
    "df.info()"
   ]
  },
  {
   "cell_type": "code",
   "execution_count": 5,
   "id": "b855daa5",
   "metadata": {
    "execution": {
     "iopub.execute_input": "2024-08-11T12:01:22.467799Z",
     "iopub.status.busy": "2024-08-11T12:01:22.467262Z",
     "iopub.status.idle": "2024-08-11T12:01:22.475789Z",
     "shell.execute_reply": "2024-08-11T12:01:22.474504Z"
    },
    "papermill": {
     "duration": 0.031553,
     "end_time": "2024-08-11T12:01:22.478597",
     "exception": false,
     "start_time": "2024-08-11T12:01:22.447044",
     "status": "completed"
    },
    "tags": []
   },
   "outputs": [
    {
     "data": {
      "text/plain": [
       "(316800, 19)"
      ]
     },
     "execution_count": 5,
     "metadata": {},
     "output_type": "execute_result"
    }
   ],
   "source": [
    "df.shape"
   ]
  },
  {
   "cell_type": "code",
   "execution_count": 6,
   "id": "a0c71a11",
   "metadata": {
    "execution": {
     "iopub.execute_input": "2024-08-11T12:01:22.514876Z",
     "iopub.status.busy": "2024-08-11T12:01:22.514337Z",
     "iopub.status.idle": "2024-08-11T12:01:22.610165Z",
     "shell.execute_reply": "2024-08-11T12:01:22.608500Z"
    },
    "papermill": {
     "duration": 0.117564,
     "end_time": "2024-08-11T12:01:22.613254",
     "exception": false,
     "start_time": "2024-08-11T12:01:22.495690",
     "status": "completed"
    },
    "tags": []
   },
   "outputs": [
    {
     "name": "stdout",
     "output_type": "stream",
     "text": [
      "311040\n"
     ]
    }
   ],
   "source": [
    "num_duplicates = df.duplicated().sum()\n",
    "print(num_duplicates)"
   ]
  },
  {
   "cell_type": "code",
   "execution_count": 7,
   "id": "3dd33b4d",
   "metadata": {
    "execution": {
     "iopub.execute_input": "2024-08-11T12:01:22.648644Z",
     "iopub.status.busy": "2024-08-11T12:01:22.648127Z",
     "iopub.status.idle": "2024-08-11T12:01:22.743988Z",
     "shell.execute_reply": "2024-08-11T12:01:22.742515Z"
    },
    "papermill": {
     "duration": 0.117107,
     "end_time": "2024-08-11T12:01:22.747029",
     "exception": false,
     "start_time": "2024-08-11T12:01:22.629922",
     "status": "completed"
    },
    "tags": []
   },
   "outputs": [
    {
     "data": {
      "text/plain": [
       "(5760, 19)"
      ]
     },
     "execution_count": 7,
     "metadata": {},
     "output_type": "execute_result"
    }
   ],
   "source": [
    "df.drop_duplicates(inplace=True)\n",
    "df.shape"
   ]
  },
  {
   "cell_type": "code",
   "execution_count": 8,
   "id": "f9463626",
   "metadata": {
    "execution": {
     "iopub.execute_input": "2024-08-11T12:01:22.783151Z",
     "iopub.status.busy": "2024-08-11T12:01:22.782715Z",
     "iopub.status.idle": "2024-08-11T12:01:22.796741Z",
     "shell.execute_reply": "2024-08-11T12:01:22.794830Z"
    },
    "papermill": {
     "duration": 0.03527,
     "end_time": "2024-08-11T12:01:22.799646",
     "exception": false,
     "start_time": "2024-08-11T12:01:22.764376",
     "status": "completed"
    },
    "tags": []
   },
   "outputs": [
    {
     "name": "stdout",
     "output_type": "stream",
     "text": [
      "Severity_Mild\n",
      "0    4320\n",
      "1    1440\n",
      "Name: count, dtype: int64\n",
      "Severity_Moderate\n",
      "0    4320\n",
      "1    1440\n",
      "Name: count, dtype: int64\n",
      "Severity_Mild\n",
      "0    4320\n",
      "1    1440\n",
      "Name: count, dtype: int64\n"
     ]
    }
   ],
   "source": [
    "print(df.Severity_Mild.value_counts())\n",
    "print(df.Severity_Moderate.value_counts())\n",
    "print(df.Severity_Mild.value_counts())\n"
   ]
  },
  {
   "cell_type": "code",
   "execution_count": 9,
   "id": "23592276",
   "metadata": {
    "execution": {
     "iopub.execute_input": "2024-08-11T12:01:22.836486Z",
     "iopub.status.busy": "2024-08-11T12:01:22.835978Z",
     "iopub.status.idle": "2024-08-11T12:01:22.849091Z",
     "shell.execute_reply": "2024-08-11T12:01:22.847585Z"
    },
    "papermill": {
     "duration": 0.035199,
     "end_time": "2024-08-11T12:01:22.852259",
     "exception": false,
     "start_time": "2024-08-11T12:01:22.817060",
     "status": "completed"
    },
    "tags": []
   },
   "outputs": [
    {
     "name": "stdout",
     "output_type": "stream",
     "text": [
      "<class 'pandas.core.series.Series'>\n",
      "Index: 5760 entries, 0 to 31677\n",
      "Series name: Severity_Moderate\n",
      "Non-Null Count  Dtype\n",
      "--------------  -----\n",
      "5760 non-null   int64\n",
      "dtypes: int64(1)\n",
      "memory usage: 90.0 KB\n"
     ]
    }
   ],
   "source": [
    "df.Severity_Moderate.info()"
   ]
  },
  {
   "cell_type": "code",
   "execution_count": 10,
   "id": "da1f3a57",
   "metadata": {
    "execution": {
     "iopub.execute_input": "2024-08-11T12:01:22.891634Z",
     "iopub.status.busy": "2024-08-11T12:01:22.891181Z",
     "iopub.status.idle": "2024-08-11T12:01:22.903860Z",
     "shell.execute_reply": "2024-08-11T12:01:22.902361Z"
    },
    "papermill": {
     "duration": 0.034585,
     "end_time": "2024-08-11T12:01:22.906779",
     "exception": false,
     "start_time": "2024-08-11T12:01:22.872194",
     "status": "completed"
    },
    "tags": []
   },
   "outputs": [
    {
     "name": "stdout",
     "output_type": "stream",
     "text": [
      "<class 'pandas.core.series.Series'>\n",
      "Index: 5760 entries, 0 to 31677\n",
      "Series name: Severity_None\n",
      "Non-Null Count  Dtype\n",
      "--------------  -----\n",
      "5760 non-null   int64\n",
      "dtypes: int64(1)\n",
      "memory usage: 90.0 KB\n"
     ]
    }
   ],
   "source": [
    "df.Severity_None.info()"
   ]
  },
  {
   "cell_type": "code",
   "execution_count": 11,
   "id": "fa01eaea",
   "metadata": {
    "execution": {
     "iopub.execute_input": "2024-08-11T12:01:22.944581Z",
     "iopub.status.busy": "2024-08-11T12:01:22.944089Z",
     "iopub.status.idle": "2024-08-11T12:01:23.063754Z",
     "shell.execute_reply": "2024-08-11T12:01:23.062154Z"
    },
    "papermill": {
     "duration": 0.142163,
     "end_time": "2024-08-11T12:01:23.066952",
     "exception": false,
     "start_time": "2024-08-11T12:01:22.924789",
     "status": "completed"
    },
    "tags": []
   },
   "outputs": [],
   "source": [
    "\n",
    "df[\"Severity\"] = df.apply(lambda x : 0 if x[\"Severity_Mild\"] else 1 if x[\"Severity_Moderate\"] else 2 if x[\"Severity_None\"] else 3,axis=1 )"
   ]
  },
  {
   "cell_type": "code",
   "execution_count": 12,
   "id": "08feff90",
   "metadata": {
    "execution": {
     "iopub.execute_input": "2024-08-11T12:01:23.103212Z",
     "iopub.status.busy": "2024-08-11T12:01:23.102819Z",
     "iopub.status.idle": "2024-08-11T12:01:23.112198Z",
     "shell.execute_reply": "2024-08-11T12:01:23.110836Z"
    },
    "papermill": {
     "duration": 0.030922,
     "end_time": "2024-08-11T12:01:23.115182",
     "exception": false,
     "start_time": "2024-08-11T12:01:23.084260",
     "status": "completed"
    },
    "tags": []
   },
   "outputs": [
    {
     "data": {
      "text/plain": [
       "5760"
      ]
     },
     "execution_count": 12,
     "metadata": {},
     "output_type": "execute_result"
    }
   ],
   "source": [
    "df['Severity'].value_counts().sum()"
   ]
  },
  {
   "cell_type": "code",
   "execution_count": 13,
   "id": "76907c78",
   "metadata": {
    "execution": {
     "iopub.execute_input": "2024-08-11T12:01:23.151600Z",
     "iopub.status.busy": "2024-08-11T12:01:23.151103Z",
     "iopub.status.idle": "2024-08-11T12:01:23.161113Z",
     "shell.execute_reply": "2024-08-11T12:01:23.159931Z"
    },
    "papermill": {
     "duration": 0.031362,
     "end_time": "2024-08-11T12:01:23.163817",
     "exception": false,
     "start_time": "2024-08-11T12:01:23.132455",
     "status": "completed"
    },
    "tags": []
   },
   "outputs": [
    {
     "data": {
      "text/plain": [
       "Severity\n",
       "0    1440\n",
       "1    1440\n",
       "3    1440\n",
       "2    1440\n",
       "Name: count, dtype: int64"
      ]
     },
     "execution_count": 13,
     "metadata": {},
     "output_type": "execute_result"
    }
   ],
   "source": [
    "df.Severity.value_counts()"
   ]
  },
  {
   "cell_type": "code",
   "execution_count": 14,
   "id": "af5a1af3",
   "metadata": {
    "execution": {
     "iopub.execute_input": "2024-08-11T12:01:23.201676Z",
     "iopub.status.busy": "2024-08-11T12:01:23.201269Z",
     "iopub.status.idle": "2024-08-11T12:01:23.209602Z",
     "shell.execute_reply": "2024-08-11T12:01:23.208165Z"
    },
    "papermill": {
     "duration": 0.030559,
     "end_time": "2024-08-11T12:01:23.212429",
     "exception": false,
     "start_time": "2024-08-11T12:01:23.181870",
     "status": "completed"
    },
    "tags": []
   },
   "outputs": [
    {
     "data": {
      "text/plain": [
       "(5760, 20)"
      ]
     },
     "execution_count": 14,
     "metadata": {},
     "output_type": "execute_result"
    }
   ],
   "source": [
    "df.shape"
   ]
  },
  {
   "cell_type": "code",
   "execution_count": 15,
   "id": "74078fff",
   "metadata": {
    "execution": {
     "iopub.execute_input": "2024-08-11T12:01:23.250738Z",
     "iopub.status.busy": "2024-08-11T12:01:23.250318Z",
     "iopub.status.idle": "2024-08-11T12:01:23.270228Z",
     "shell.execute_reply": "2024-08-11T12:01:23.268860Z"
    },
    "papermill": {
     "duration": 0.043391,
     "end_time": "2024-08-11T12:01:23.273593",
     "exception": false,
     "start_time": "2024-08-11T12:01:23.230202",
     "status": "completed"
    },
    "tags": []
   },
   "outputs": [
    {
     "data": {
      "text/html": [
       "<div>\n",
       "<style scoped>\n",
       "    .dataframe tbody tr th:only-of-type {\n",
       "        vertical-align: middle;\n",
       "    }\n",
       "\n",
       "    .dataframe tbody tr th {\n",
       "        vertical-align: top;\n",
       "    }\n",
       "\n",
       "    .dataframe thead th {\n",
       "        text-align: right;\n",
       "    }\n",
       "</style>\n",
       "<table border=\"1\" class=\"dataframe\">\n",
       "  <thead>\n",
       "    <tr style=\"text-align: right;\">\n",
       "      <th></th>\n",
       "      <th>Tiredness</th>\n",
       "      <th>Dry-Cough</th>\n",
       "      <th>Difficulty-in-Breathing</th>\n",
       "      <th>Sore-Throat</th>\n",
       "      <th>None_Sympton</th>\n",
       "      <th>Pains</th>\n",
       "      <th>Nasal-Congestion</th>\n",
       "      <th>Runny-Nose</th>\n",
       "      <th>None_Experiencing</th>\n",
       "      <th>Age_0-9</th>\n",
       "      <th>Age_10-19</th>\n",
       "      <th>Age_20-24</th>\n",
       "      <th>Age_25-59</th>\n",
       "      <th>Age_60+</th>\n",
       "      <th>Gender_Female</th>\n",
       "      <th>Gender_Male</th>\n",
       "      <th>Severity_Mild</th>\n",
       "      <th>Severity_Moderate</th>\n",
       "      <th>Severity_None</th>\n",
       "      <th>Severity</th>\n",
       "    </tr>\n",
       "  </thead>\n",
       "  <tbody>\n",
       "    <tr>\n",
       "      <th>0</th>\n",
       "      <td>1</td>\n",
       "      <td>1</td>\n",
       "      <td>1</td>\n",
       "      <td>1</td>\n",
       "      <td>0</td>\n",
       "      <td>1</td>\n",
       "      <td>1</td>\n",
       "      <td>1</td>\n",
       "      <td>0</td>\n",
       "      <td>1</td>\n",
       "      <td>0</td>\n",
       "      <td>0</td>\n",
       "      <td>0</td>\n",
       "      <td>0</td>\n",
       "      <td>0</td>\n",
       "      <td>1</td>\n",
       "      <td>1</td>\n",
       "      <td>0</td>\n",
       "      <td>0</td>\n",
       "      <td>0</td>\n",
       "    </tr>\n",
       "    <tr>\n",
       "      <th>3</th>\n",
       "      <td>1</td>\n",
       "      <td>1</td>\n",
       "      <td>1</td>\n",
       "      <td>1</td>\n",
       "      <td>0</td>\n",
       "      <td>1</td>\n",
       "      <td>1</td>\n",
       "      <td>1</td>\n",
       "      <td>0</td>\n",
       "      <td>1</td>\n",
       "      <td>0</td>\n",
       "      <td>0</td>\n",
       "      <td>0</td>\n",
       "      <td>0</td>\n",
       "      <td>0</td>\n",
       "      <td>1</td>\n",
       "      <td>0</td>\n",
       "      <td>1</td>\n",
       "      <td>0</td>\n",
       "      <td>1</td>\n",
       "    </tr>\n",
       "    <tr>\n",
       "      <th>6</th>\n",
       "      <td>1</td>\n",
       "      <td>1</td>\n",
       "      <td>1</td>\n",
       "      <td>1</td>\n",
       "      <td>0</td>\n",
       "      <td>1</td>\n",
       "      <td>1</td>\n",
       "      <td>1</td>\n",
       "      <td>0</td>\n",
       "      <td>1</td>\n",
       "      <td>0</td>\n",
       "      <td>0</td>\n",
       "      <td>0</td>\n",
       "      <td>0</td>\n",
       "      <td>0</td>\n",
       "      <td>1</td>\n",
       "      <td>0</td>\n",
       "      <td>0</td>\n",
       "      <td>0</td>\n",
       "      <td>3</td>\n",
       "    </tr>\n",
       "    <tr>\n",
       "      <th>9</th>\n",
       "      <td>1</td>\n",
       "      <td>1</td>\n",
       "      <td>1</td>\n",
       "      <td>1</td>\n",
       "      <td>0</td>\n",
       "      <td>1</td>\n",
       "      <td>1</td>\n",
       "      <td>1</td>\n",
       "      <td>0</td>\n",
       "      <td>1</td>\n",
       "      <td>0</td>\n",
       "      <td>0</td>\n",
       "      <td>0</td>\n",
       "      <td>0</td>\n",
       "      <td>0</td>\n",
       "      <td>1</td>\n",
       "      <td>0</td>\n",
       "      <td>0</td>\n",
       "      <td>1</td>\n",
       "      <td>2</td>\n",
       "    </tr>\n",
       "    <tr>\n",
       "      <th>24</th>\n",
       "      <td>1</td>\n",
       "      <td>1</td>\n",
       "      <td>1</td>\n",
       "      <td>1</td>\n",
       "      <td>0</td>\n",
       "      <td>1</td>\n",
       "      <td>1</td>\n",
       "      <td>0</td>\n",
       "      <td>0</td>\n",
       "      <td>1</td>\n",
       "      <td>0</td>\n",
       "      <td>0</td>\n",
       "      <td>0</td>\n",
       "      <td>0</td>\n",
       "      <td>0</td>\n",
       "      <td>1</td>\n",
       "      <td>1</td>\n",
       "      <td>0</td>\n",
       "      <td>0</td>\n",
       "      <td>0</td>\n",
       "    </tr>\n",
       "  </tbody>\n",
       "</table>\n",
       "</div>"
      ],
      "text/plain": [
       "    Tiredness  Dry-Cough  Difficulty-in-Breathing  Sore-Throat  None_Sympton  \\\n",
       "0           1          1                        1            1             0   \n",
       "3           1          1                        1            1             0   \n",
       "6           1          1                        1            1             0   \n",
       "9           1          1                        1            1             0   \n",
       "24          1          1                        1            1             0   \n",
       "\n",
       "    Pains  Nasal-Congestion  Runny-Nose  None_Experiencing  Age_0-9  \\\n",
       "0       1                 1           1                  0        1   \n",
       "3       1                 1           1                  0        1   \n",
       "6       1                 1           1                  0        1   \n",
       "9       1                 1           1                  0        1   \n",
       "24      1                 1           0                  0        1   \n",
       "\n",
       "    Age_10-19  Age_20-24  Age_25-59  Age_60+  Gender_Female  Gender_Male  \\\n",
       "0           0          0          0        0              0            1   \n",
       "3           0          0          0        0              0            1   \n",
       "6           0          0          0        0              0            1   \n",
       "9           0          0          0        0              0            1   \n",
       "24          0          0          0        0              0            1   \n",
       "\n",
       "    Severity_Mild  Severity_Moderate  Severity_None  Severity  \n",
       "0               1                  0              0         0  \n",
       "3               0                  1              0         1  \n",
       "6               0                  0              0         3  \n",
       "9               0                  0              1         2  \n",
       "24              1                  0              0         0  "
      ]
     },
     "execution_count": 15,
     "metadata": {},
     "output_type": "execute_result"
    }
   ],
   "source": [
    "df.head()"
   ]
  },
  {
   "cell_type": "code",
   "execution_count": 16,
   "id": "e5a9ea20",
   "metadata": {
    "execution": {
     "iopub.execute_input": "2024-08-11T12:01:23.313232Z",
     "iopub.status.busy": "2024-08-11T12:01:23.312223Z",
     "iopub.status.idle": "2024-08-11T12:01:23.324526Z",
     "shell.execute_reply": "2024-08-11T12:01:23.322946Z"
    },
    "papermill": {
     "duration": 0.035238,
     "end_time": "2024-08-11T12:01:23.327517",
     "exception": false,
     "start_time": "2024-08-11T12:01:23.292279",
     "status": "completed"
    },
    "tags": []
   },
   "outputs": [
    {
     "data": {
      "text/plain": [
       "Tiredness                  0\n",
       "Dry-Cough                  0\n",
       "Difficulty-in-Breathing    0\n",
       "Sore-Throat                0\n",
       "None_Sympton               0\n",
       "Pains                      0\n",
       "Nasal-Congestion           0\n",
       "Runny-Nose                 0\n",
       "None_Experiencing          0\n",
       "Age_0-9                    0\n",
       "Age_10-19                  0\n",
       "Age_20-24                  0\n",
       "Age_25-59                  0\n",
       "Age_60+                    0\n",
       "Gender_Female              0\n",
       "Gender_Male                0\n",
       "Severity_Mild              0\n",
       "Severity_Moderate          0\n",
       "Severity_None              0\n",
       "Severity                   0\n",
       "dtype: int64"
      ]
     },
     "execution_count": 16,
     "metadata": {},
     "output_type": "execute_result"
    }
   ],
   "source": [
    "df.isnull().sum()"
   ]
  },
  {
   "cell_type": "code",
   "execution_count": 17,
   "id": "af07a7dc",
   "metadata": {
    "execution": {
     "iopub.execute_input": "2024-08-11T12:01:23.367517Z",
     "iopub.status.busy": "2024-08-11T12:01:23.367094Z",
     "iopub.status.idle": "2024-08-11T12:01:23.375628Z",
     "shell.execute_reply": "2024-08-11T12:01:23.374152Z"
    },
    "papermill": {
     "duration": 0.032016,
     "end_time": "2024-08-11T12:01:23.378520",
     "exception": false,
     "start_time": "2024-08-11T12:01:23.346504",
     "status": "completed"
    },
    "tags": []
   },
   "outputs": [],
   "source": [
    "df.drop(columns=[\"Severity_Mild\",\"Severity_Moderate\",\"Severity_None\"],inplace=True)\n"
   ]
  },
  {
   "cell_type": "code",
   "execution_count": 18,
   "id": "7cf359a4",
   "metadata": {
    "execution": {
     "iopub.execute_input": "2024-08-11T12:01:23.418446Z",
     "iopub.status.busy": "2024-08-11T12:01:23.417917Z",
     "iopub.status.idle": "2024-08-11T12:01:23.441343Z",
     "shell.execute_reply": "2024-08-11T12:01:23.440026Z"
    },
    "papermill": {
     "duration": 0.047299,
     "end_time": "2024-08-11T12:01:23.444494",
     "exception": false,
     "start_time": "2024-08-11T12:01:23.397195",
     "status": "completed"
    },
    "tags": []
   },
   "outputs": [
    {
     "data": {
      "text/html": [
       "<div>\n",
       "<style scoped>\n",
       "    .dataframe tbody tr th:only-of-type {\n",
       "        vertical-align: middle;\n",
       "    }\n",
       "\n",
       "    .dataframe tbody tr th {\n",
       "        vertical-align: top;\n",
       "    }\n",
       "\n",
       "    .dataframe thead th {\n",
       "        text-align: right;\n",
       "    }\n",
       "</style>\n",
       "<table border=\"1\" class=\"dataframe\">\n",
       "  <thead>\n",
       "    <tr style=\"text-align: right;\">\n",
       "      <th></th>\n",
       "      <th>Tiredness</th>\n",
       "      <th>Dry-Cough</th>\n",
       "      <th>Difficulty-in-Breathing</th>\n",
       "      <th>Sore-Throat</th>\n",
       "      <th>None_Sympton</th>\n",
       "      <th>Pains</th>\n",
       "      <th>Nasal-Congestion</th>\n",
       "      <th>Runny-Nose</th>\n",
       "      <th>None_Experiencing</th>\n",
       "      <th>Age_0-9</th>\n",
       "      <th>Age_10-19</th>\n",
       "      <th>Age_20-24</th>\n",
       "      <th>Age_25-59</th>\n",
       "      <th>Age_60+</th>\n",
       "      <th>Gender_Female</th>\n",
       "      <th>Gender_Male</th>\n",
       "      <th>Severity</th>\n",
       "    </tr>\n",
       "  </thead>\n",
       "  <tbody>\n",
       "    <tr>\n",
       "      <th>0</th>\n",
       "      <td>1</td>\n",
       "      <td>1</td>\n",
       "      <td>1</td>\n",
       "      <td>1</td>\n",
       "      <td>0</td>\n",
       "      <td>1</td>\n",
       "      <td>1</td>\n",
       "      <td>1</td>\n",
       "      <td>0</td>\n",
       "      <td>1</td>\n",
       "      <td>0</td>\n",
       "      <td>0</td>\n",
       "      <td>0</td>\n",
       "      <td>0</td>\n",
       "      <td>0</td>\n",
       "      <td>1</td>\n",
       "      <td>0</td>\n",
       "    </tr>\n",
       "    <tr>\n",
       "      <th>3</th>\n",
       "      <td>1</td>\n",
       "      <td>1</td>\n",
       "      <td>1</td>\n",
       "      <td>1</td>\n",
       "      <td>0</td>\n",
       "      <td>1</td>\n",
       "      <td>1</td>\n",
       "      <td>1</td>\n",
       "      <td>0</td>\n",
       "      <td>1</td>\n",
       "      <td>0</td>\n",
       "      <td>0</td>\n",
       "      <td>0</td>\n",
       "      <td>0</td>\n",
       "      <td>0</td>\n",
       "      <td>1</td>\n",
       "      <td>1</td>\n",
       "    </tr>\n",
       "    <tr>\n",
       "      <th>6</th>\n",
       "      <td>1</td>\n",
       "      <td>1</td>\n",
       "      <td>1</td>\n",
       "      <td>1</td>\n",
       "      <td>0</td>\n",
       "      <td>1</td>\n",
       "      <td>1</td>\n",
       "      <td>1</td>\n",
       "      <td>0</td>\n",
       "      <td>1</td>\n",
       "      <td>0</td>\n",
       "      <td>0</td>\n",
       "      <td>0</td>\n",
       "      <td>0</td>\n",
       "      <td>0</td>\n",
       "      <td>1</td>\n",
       "      <td>3</td>\n",
       "    </tr>\n",
       "    <tr>\n",
       "      <th>9</th>\n",
       "      <td>1</td>\n",
       "      <td>1</td>\n",
       "      <td>1</td>\n",
       "      <td>1</td>\n",
       "      <td>0</td>\n",
       "      <td>1</td>\n",
       "      <td>1</td>\n",
       "      <td>1</td>\n",
       "      <td>0</td>\n",
       "      <td>1</td>\n",
       "      <td>0</td>\n",
       "      <td>0</td>\n",
       "      <td>0</td>\n",
       "      <td>0</td>\n",
       "      <td>0</td>\n",
       "      <td>1</td>\n",
       "      <td>2</td>\n",
       "    </tr>\n",
       "    <tr>\n",
       "      <th>24</th>\n",
       "      <td>1</td>\n",
       "      <td>1</td>\n",
       "      <td>1</td>\n",
       "      <td>1</td>\n",
       "      <td>0</td>\n",
       "      <td>1</td>\n",
       "      <td>1</td>\n",
       "      <td>0</td>\n",
       "      <td>0</td>\n",
       "      <td>1</td>\n",
       "      <td>0</td>\n",
       "      <td>0</td>\n",
       "      <td>0</td>\n",
       "      <td>0</td>\n",
       "      <td>0</td>\n",
       "      <td>1</td>\n",
       "      <td>0</td>\n",
       "    </tr>\n",
       "    <tr>\n",
       "      <th>...</th>\n",
       "      <td>...</td>\n",
       "      <td>...</td>\n",
       "      <td>...</td>\n",
       "      <td>...</td>\n",
       "      <td>...</td>\n",
       "      <td>...</td>\n",
       "      <td>...</td>\n",
       "      <td>...</td>\n",
       "      <td>...</td>\n",
       "      <td>...</td>\n",
       "      <td>...</td>\n",
       "      <td>...</td>\n",
       "      <td>...</td>\n",
       "      <td>...</td>\n",
       "      <td>...</td>\n",
       "      <td>...</td>\n",
       "      <td>...</td>\n",
       "    </tr>\n",
       "    <tr>\n",
       "      <th>31665</th>\n",
       "      <td>0</td>\n",
       "      <td>0</td>\n",
       "      <td>0</td>\n",
       "      <td>0</td>\n",
       "      <td>1</td>\n",
       "      <td>0</td>\n",
       "      <td>0</td>\n",
       "      <td>0</td>\n",
       "      <td>0</td>\n",
       "      <td>0</td>\n",
       "      <td>0</td>\n",
       "      <td>0</td>\n",
       "      <td>0</td>\n",
       "      <td>1</td>\n",
       "      <td>0</td>\n",
       "      <td>0</td>\n",
       "      <td>2</td>\n",
       "    </tr>\n",
       "    <tr>\n",
       "      <th>31668</th>\n",
       "      <td>0</td>\n",
       "      <td>0</td>\n",
       "      <td>0</td>\n",
       "      <td>0</td>\n",
       "      <td>1</td>\n",
       "      <td>0</td>\n",
       "      <td>0</td>\n",
       "      <td>0</td>\n",
       "      <td>1</td>\n",
       "      <td>0</td>\n",
       "      <td>0</td>\n",
       "      <td>0</td>\n",
       "      <td>0</td>\n",
       "      <td>1</td>\n",
       "      <td>0</td>\n",
       "      <td>0</td>\n",
       "      <td>0</td>\n",
       "    </tr>\n",
       "    <tr>\n",
       "      <th>31671</th>\n",
       "      <td>0</td>\n",
       "      <td>0</td>\n",
       "      <td>0</td>\n",
       "      <td>0</td>\n",
       "      <td>1</td>\n",
       "      <td>0</td>\n",
       "      <td>0</td>\n",
       "      <td>0</td>\n",
       "      <td>1</td>\n",
       "      <td>0</td>\n",
       "      <td>0</td>\n",
       "      <td>0</td>\n",
       "      <td>0</td>\n",
       "      <td>1</td>\n",
       "      <td>0</td>\n",
       "      <td>0</td>\n",
       "      <td>1</td>\n",
       "    </tr>\n",
       "    <tr>\n",
       "      <th>31674</th>\n",
       "      <td>0</td>\n",
       "      <td>0</td>\n",
       "      <td>0</td>\n",
       "      <td>0</td>\n",
       "      <td>1</td>\n",
       "      <td>0</td>\n",
       "      <td>0</td>\n",
       "      <td>0</td>\n",
       "      <td>1</td>\n",
       "      <td>0</td>\n",
       "      <td>0</td>\n",
       "      <td>0</td>\n",
       "      <td>0</td>\n",
       "      <td>1</td>\n",
       "      <td>0</td>\n",
       "      <td>0</td>\n",
       "      <td>3</td>\n",
       "    </tr>\n",
       "    <tr>\n",
       "      <th>31677</th>\n",
       "      <td>0</td>\n",
       "      <td>0</td>\n",
       "      <td>0</td>\n",
       "      <td>0</td>\n",
       "      <td>1</td>\n",
       "      <td>0</td>\n",
       "      <td>0</td>\n",
       "      <td>0</td>\n",
       "      <td>1</td>\n",
       "      <td>0</td>\n",
       "      <td>0</td>\n",
       "      <td>0</td>\n",
       "      <td>0</td>\n",
       "      <td>1</td>\n",
       "      <td>0</td>\n",
       "      <td>0</td>\n",
       "      <td>2</td>\n",
       "    </tr>\n",
       "  </tbody>\n",
       "</table>\n",
       "<p>5760 rows × 17 columns</p>\n",
       "</div>"
      ],
      "text/plain": [
       "       Tiredness  Dry-Cough  Difficulty-in-Breathing  Sore-Throat  \\\n",
       "0              1          1                        1            1   \n",
       "3              1          1                        1            1   \n",
       "6              1          1                        1            1   \n",
       "9              1          1                        1            1   \n",
       "24             1          1                        1            1   \n",
       "...          ...        ...                      ...          ...   \n",
       "31665          0          0                        0            0   \n",
       "31668          0          0                        0            0   \n",
       "31671          0          0                        0            0   \n",
       "31674          0          0                        0            0   \n",
       "31677          0          0                        0            0   \n",
       "\n",
       "       None_Sympton  Pains  Nasal-Congestion  Runny-Nose  None_Experiencing  \\\n",
       "0                 0      1                 1           1                  0   \n",
       "3                 0      1                 1           1                  0   \n",
       "6                 0      1                 1           1                  0   \n",
       "9                 0      1                 1           1                  0   \n",
       "24                0      1                 1           0                  0   \n",
       "...             ...    ...               ...         ...                ...   \n",
       "31665             1      0                 0           0                  0   \n",
       "31668             1      0                 0           0                  1   \n",
       "31671             1      0                 0           0                  1   \n",
       "31674             1      0                 0           0                  1   \n",
       "31677             1      0                 0           0                  1   \n",
       "\n",
       "       Age_0-9  Age_10-19  Age_20-24  Age_25-59  Age_60+  Gender_Female  \\\n",
       "0            1          0          0          0        0              0   \n",
       "3            1          0          0          0        0              0   \n",
       "6            1          0          0          0        0              0   \n",
       "9            1          0          0          0        0              0   \n",
       "24           1          0          0          0        0              0   \n",
       "...        ...        ...        ...        ...      ...            ...   \n",
       "31665        0          0          0          0        1              0   \n",
       "31668        0          0          0          0        1              0   \n",
       "31671        0          0          0          0        1              0   \n",
       "31674        0          0          0          0        1              0   \n",
       "31677        0          0          0          0        1              0   \n",
       "\n",
       "       Gender_Male  Severity  \n",
       "0                1         0  \n",
       "3                1         1  \n",
       "6                1         3  \n",
       "9                1         2  \n",
       "24               1         0  \n",
       "...            ...       ...  \n",
       "31665            0         2  \n",
       "31668            0         0  \n",
       "31671            0         1  \n",
       "31674            0         3  \n",
       "31677            0         2  \n",
       "\n",
       "[5760 rows x 17 columns]"
      ]
     },
     "execution_count": 18,
     "metadata": {},
     "output_type": "execute_result"
    }
   ],
   "source": [
    "df"
   ]
  },
  {
   "cell_type": "code",
   "execution_count": 19,
   "id": "d61a163b",
   "metadata": {
    "execution": {
     "iopub.execute_input": "2024-08-11T12:01:23.484349Z",
     "iopub.status.busy": "2024-08-11T12:01:23.483818Z",
     "iopub.status.idle": "2024-08-11T12:01:23.492807Z",
     "shell.execute_reply": "2024-08-11T12:01:23.491322Z"
    },
    "papermill": {
     "duration": 0.032345,
     "end_time": "2024-08-11T12:01:23.495579",
     "exception": false,
     "start_time": "2024-08-11T12:01:23.463234",
     "status": "completed"
    },
    "tags": []
   },
   "outputs": [
    {
     "data": {
      "text/plain": [
       "Index(['Tiredness', 'Dry-Cough', 'Difficulty-in-Breathing', 'Sore-Throat',\n",
       "       'None_Sympton', 'Pains', 'Nasal-Congestion', 'Runny-Nose',\n",
       "       'None_Experiencing', 'Age_0-9', 'Age_10-19', 'Age_20-24', 'Age_25-59',\n",
       "       'Age_60+', 'Gender_Female', 'Gender_Male', 'Severity'],\n",
       "      dtype='object')"
      ]
     },
     "execution_count": 19,
     "metadata": {},
     "output_type": "execute_result"
    }
   ],
   "source": [
    "df.columns"
   ]
  },
  {
   "cell_type": "code",
   "execution_count": 20,
   "id": "03c52551",
   "metadata": {
    "execution": {
     "iopub.execute_input": "2024-08-11T12:01:23.536152Z",
     "iopub.status.busy": "2024-08-11T12:01:23.535671Z",
     "iopub.status.idle": "2024-08-11T12:01:23.680389Z",
     "shell.execute_reply": "2024-08-11T12:01:23.679113Z"
    },
    "papermill": {
     "duration": 0.168243,
     "end_time": "2024-08-11T12:01:23.683390",
     "exception": false,
     "start_time": "2024-08-11T12:01:23.515147",
     "status": "completed"
    },
    "tags": []
   },
   "outputs": [],
   "source": [
    "df[\"Age\"] = df.apply(lambda x : 0 if x[\"Age_0-9\"] else 1 if x[\"Age_10-19\"] else 2 if x[\"Age_20-24\"] else 3 if x[\"Age_25-59\"] else 4 if x[\"Age_60+\"] else 5,axis=1 )"
   ]
  },
  {
   "cell_type": "code",
   "execution_count": 21,
   "id": "2f0104b9",
   "metadata": {
    "execution": {
     "iopub.execute_input": "2024-08-11T12:01:23.724550Z",
     "iopub.status.busy": "2024-08-11T12:01:23.724044Z",
     "iopub.status.idle": "2024-08-11T12:01:23.732499Z",
     "shell.execute_reply": "2024-08-11T12:01:23.731216Z"
    },
    "papermill": {
     "duration": 0.032891,
     "end_time": "2024-08-11T12:01:23.735623",
     "exception": false,
     "start_time": "2024-08-11T12:01:23.702732",
     "status": "completed"
    },
    "tags": []
   },
   "outputs": [],
   "source": [
    "df.drop(columns=[\"Age_0-9\",\"Age_10-19\",\"Age_20-24\",\"Age_25-59\",\"Age_60+\"],inplace=True)"
   ]
  },
  {
   "cell_type": "code",
   "execution_count": 22,
   "id": "1eab724e",
   "metadata": {
    "execution": {
     "iopub.execute_input": "2024-08-11T12:01:23.777394Z",
     "iopub.status.busy": "2024-08-11T12:01:23.776900Z",
     "iopub.status.idle": "2024-08-11T12:01:23.787939Z",
     "shell.execute_reply": "2024-08-11T12:01:23.786590Z"
    },
    "papermill": {
     "duration": 0.035636,
     "end_time": "2024-08-11T12:01:23.790560",
     "exception": false,
     "start_time": "2024-08-11T12:01:23.754924",
     "status": "completed"
    },
    "tags": []
   },
   "outputs": [
    {
     "data": {
      "text/plain": [
       "Age\n",
       "0    1152\n",
       "1    1152\n",
       "2    1152\n",
       "3    1152\n",
       "4    1152\n",
       "Name: count, dtype: int64"
      ]
     },
     "execution_count": 22,
     "metadata": {},
     "output_type": "execute_result"
    }
   ],
   "source": [
    "df.Age.value_counts()"
   ]
  },
  {
   "cell_type": "code",
   "execution_count": 23,
   "id": "37fb65ae",
   "metadata": {
    "execution": {
     "iopub.execute_input": "2024-08-11T12:01:23.839725Z",
     "iopub.status.busy": "2024-08-11T12:01:23.838572Z",
     "iopub.status.idle": "2024-08-11T12:01:23.957927Z",
     "shell.execute_reply": "2024-08-11T12:01:23.956245Z"
    },
    "papermill": {
     "duration": 0.150994,
     "end_time": "2024-08-11T12:01:23.962389",
     "exception": false,
     "start_time": "2024-08-11T12:01:23.811395",
     "status": "completed"
    },
    "tags": []
   },
   "outputs": [],
   "source": [
    "df['Gender'] = df.apply(lambda x: 0 if x['Gender_Female'] else 1 if x['Gender_Male'] else 2 , axis=1)\n",
    "df.drop(columns=['Gender_Female','Gender_Male'],inplace=True)"
   ]
  },
  {
   "cell_type": "code",
   "execution_count": 24,
   "id": "3a99dc2f",
   "metadata": {
    "execution": {
     "iopub.execute_input": "2024-08-11T12:01:24.139982Z",
     "iopub.status.busy": "2024-08-11T12:01:24.139490Z",
     "iopub.status.idle": "2024-08-11T12:01:24.160814Z",
     "shell.execute_reply": "2024-08-11T12:01:24.159169Z"
    },
    "papermill": {
     "duration": 0.046443,
     "end_time": "2024-08-11T12:01:24.164305",
     "exception": false,
     "start_time": "2024-08-11T12:01:24.117862",
     "status": "completed"
    },
    "tags": []
   },
   "outputs": [
    {
     "data": {
      "text/html": [
       "<div>\n",
       "<style scoped>\n",
       "    .dataframe tbody tr th:only-of-type {\n",
       "        vertical-align: middle;\n",
       "    }\n",
       "\n",
       "    .dataframe tbody tr th {\n",
       "        vertical-align: top;\n",
       "    }\n",
       "\n",
       "    .dataframe thead th {\n",
       "        text-align: right;\n",
       "    }\n",
       "</style>\n",
       "<table border=\"1\" class=\"dataframe\">\n",
       "  <thead>\n",
       "    <tr style=\"text-align: right;\">\n",
       "      <th></th>\n",
       "      <th>Tiredness</th>\n",
       "      <th>Dry-Cough</th>\n",
       "      <th>Difficulty-in-Breathing</th>\n",
       "      <th>Sore-Throat</th>\n",
       "      <th>None_Sympton</th>\n",
       "      <th>Pains</th>\n",
       "      <th>Nasal-Congestion</th>\n",
       "      <th>Runny-Nose</th>\n",
       "      <th>None_Experiencing</th>\n",
       "      <th>Severity</th>\n",
       "      <th>Age</th>\n",
       "      <th>Gender</th>\n",
       "    </tr>\n",
       "  </thead>\n",
       "  <tbody>\n",
       "    <tr>\n",
       "      <th>0</th>\n",
       "      <td>1</td>\n",
       "      <td>1</td>\n",
       "      <td>1</td>\n",
       "      <td>1</td>\n",
       "      <td>0</td>\n",
       "      <td>1</td>\n",
       "      <td>1</td>\n",
       "      <td>1</td>\n",
       "      <td>0</td>\n",
       "      <td>0</td>\n",
       "      <td>0</td>\n",
       "      <td>1</td>\n",
       "    </tr>\n",
       "    <tr>\n",
       "      <th>3</th>\n",
       "      <td>1</td>\n",
       "      <td>1</td>\n",
       "      <td>1</td>\n",
       "      <td>1</td>\n",
       "      <td>0</td>\n",
       "      <td>1</td>\n",
       "      <td>1</td>\n",
       "      <td>1</td>\n",
       "      <td>0</td>\n",
       "      <td>1</td>\n",
       "      <td>0</td>\n",
       "      <td>1</td>\n",
       "    </tr>\n",
       "    <tr>\n",
       "      <th>6</th>\n",
       "      <td>1</td>\n",
       "      <td>1</td>\n",
       "      <td>1</td>\n",
       "      <td>1</td>\n",
       "      <td>0</td>\n",
       "      <td>1</td>\n",
       "      <td>1</td>\n",
       "      <td>1</td>\n",
       "      <td>0</td>\n",
       "      <td>3</td>\n",
       "      <td>0</td>\n",
       "      <td>1</td>\n",
       "    </tr>\n",
       "    <tr>\n",
       "      <th>9</th>\n",
       "      <td>1</td>\n",
       "      <td>1</td>\n",
       "      <td>1</td>\n",
       "      <td>1</td>\n",
       "      <td>0</td>\n",
       "      <td>1</td>\n",
       "      <td>1</td>\n",
       "      <td>1</td>\n",
       "      <td>0</td>\n",
       "      <td>2</td>\n",
       "      <td>0</td>\n",
       "      <td>1</td>\n",
       "    </tr>\n",
       "    <tr>\n",
       "      <th>24</th>\n",
       "      <td>1</td>\n",
       "      <td>1</td>\n",
       "      <td>1</td>\n",
       "      <td>1</td>\n",
       "      <td>0</td>\n",
       "      <td>1</td>\n",
       "      <td>1</td>\n",
       "      <td>0</td>\n",
       "      <td>0</td>\n",
       "      <td>0</td>\n",
       "      <td>0</td>\n",
       "      <td>1</td>\n",
       "    </tr>\n",
       "    <tr>\n",
       "      <th>...</th>\n",
       "      <td>...</td>\n",
       "      <td>...</td>\n",
       "      <td>...</td>\n",
       "      <td>...</td>\n",
       "      <td>...</td>\n",
       "      <td>...</td>\n",
       "      <td>...</td>\n",
       "      <td>...</td>\n",
       "      <td>...</td>\n",
       "      <td>...</td>\n",
       "      <td>...</td>\n",
       "      <td>...</td>\n",
       "    </tr>\n",
       "    <tr>\n",
       "      <th>31665</th>\n",
       "      <td>0</td>\n",
       "      <td>0</td>\n",
       "      <td>0</td>\n",
       "      <td>0</td>\n",
       "      <td>1</td>\n",
       "      <td>0</td>\n",
       "      <td>0</td>\n",
       "      <td>0</td>\n",
       "      <td>0</td>\n",
       "      <td>2</td>\n",
       "      <td>4</td>\n",
       "      <td>2</td>\n",
       "    </tr>\n",
       "    <tr>\n",
       "      <th>31668</th>\n",
       "      <td>0</td>\n",
       "      <td>0</td>\n",
       "      <td>0</td>\n",
       "      <td>0</td>\n",
       "      <td>1</td>\n",
       "      <td>0</td>\n",
       "      <td>0</td>\n",
       "      <td>0</td>\n",
       "      <td>1</td>\n",
       "      <td>0</td>\n",
       "      <td>4</td>\n",
       "      <td>2</td>\n",
       "    </tr>\n",
       "    <tr>\n",
       "      <th>31671</th>\n",
       "      <td>0</td>\n",
       "      <td>0</td>\n",
       "      <td>0</td>\n",
       "      <td>0</td>\n",
       "      <td>1</td>\n",
       "      <td>0</td>\n",
       "      <td>0</td>\n",
       "      <td>0</td>\n",
       "      <td>1</td>\n",
       "      <td>1</td>\n",
       "      <td>4</td>\n",
       "      <td>2</td>\n",
       "    </tr>\n",
       "    <tr>\n",
       "      <th>31674</th>\n",
       "      <td>0</td>\n",
       "      <td>0</td>\n",
       "      <td>0</td>\n",
       "      <td>0</td>\n",
       "      <td>1</td>\n",
       "      <td>0</td>\n",
       "      <td>0</td>\n",
       "      <td>0</td>\n",
       "      <td>1</td>\n",
       "      <td>3</td>\n",
       "      <td>4</td>\n",
       "      <td>2</td>\n",
       "    </tr>\n",
       "    <tr>\n",
       "      <th>31677</th>\n",
       "      <td>0</td>\n",
       "      <td>0</td>\n",
       "      <td>0</td>\n",
       "      <td>0</td>\n",
       "      <td>1</td>\n",
       "      <td>0</td>\n",
       "      <td>0</td>\n",
       "      <td>0</td>\n",
       "      <td>1</td>\n",
       "      <td>2</td>\n",
       "      <td>4</td>\n",
       "      <td>2</td>\n",
       "    </tr>\n",
       "  </tbody>\n",
       "</table>\n",
       "<p>5760 rows × 12 columns</p>\n",
       "</div>"
      ],
      "text/plain": [
       "       Tiredness  Dry-Cough  Difficulty-in-Breathing  Sore-Throat  \\\n",
       "0              1          1                        1            1   \n",
       "3              1          1                        1            1   \n",
       "6              1          1                        1            1   \n",
       "9              1          1                        1            1   \n",
       "24             1          1                        1            1   \n",
       "...          ...        ...                      ...          ...   \n",
       "31665          0          0                        0            0   \n",
       "31668          0          0                        0            0   \n",
       "31671          0          0                        0            0   \n",
       "31674          0          0                        0            0   \n",
       "31677          0          0                        0            0   \n",
       "\n",
       "       None_Sympton  Pains  Nasal-Congestion  Runny-Nose  None_Experiencing  \\\n",
       "0                 0      1                 1           1                  0   \n",
       "3                 0      1                 1           1                  0   \n",
       "6                 0      1                 1           1                  0   \n",
       "9                 0      1                 1           1                  0   \n",
       "24                0      1                 1           0                  0   \n",
       "...             ...    ...               ...         ...                ...   \n",
       "31665             1      0                 0           0                  0   \n",
       "31668             1      0                 0           0                  1   \n",
       "31671             1      0                 0           0                  1   \n",
       "31674             1      0                 0           0                  1   \n",
       "31677             1      0                 0           0                  1   \n",
       "\n",
       "       Severity  Age  Gender  \n",
       "0             0    0       1  \n",
       "3             1    0       1  \n",
       "6             3    0       1  \n",
       "9             2    0       1  \n",
       "24            0    0       1  \n",
       "...         ...  ...     ...  \n",
       "31665         2    4       2  \n",
       "31668         0    4       2  \n",
       "31671         1    4       2  \n",
       "31674         3    4       2  \n",
       "31677         2    4       2  \n",
       "\n",
       "[5760 rows x 12 columns]"
      ]
     },
     "execution_count": 24,
     "metadata": {},
     "output_type": "execute_result"
    }
   ],
   "source": [
    "df"
   ]
  },
  {
   "cell_type": "code",
   "execution_count": 25,
   "id": "491e42b8",
   "metadata": {
    "execution": {
     "iopub.execute_input": "2024-08-11T12:01:24.215606Z",
     "iopub.status.busy": "2024-08-11T12:01:24.213754Z",
     "iopub.status.idle": "2024-08-11T12:01:24.257524Z",
     "shell.execute_reply": "2024-08-11T12:01:24.255770Z"
    },
    "papermill": {
     "duration": 0.074455,
     "end_time": "2024-08-11T12:01:24.262055",
     "exception": false,
     "start_time": "2024-08-11T12:01:24.187600",
     "status": "completed"
    },
    "tags": []
   },
   "outputs": [
    {
     "data": {
      "text/html": [
       "<div>\n",
       "<style scoped>\n",
       "    .dataframe tbody tr th:only-of-type {\n",
       "        vertical-align: middle;\n",
       "    }\n",
       "\n",
       "    .dataframe tbody tr th {\n",
       "        vertical-align: top;\n",
       "    }\n",
       "\n",
       "    .dataframe thead th {\n",
       "        text-align: right;\n",
       "    }\n",
       "</style>\n",
       "<table border=\"1\" class=\"dataframe\">\n",
       "  <thead>\n",
       "    <tr style=\"text-align: right;\">\n",
       "      <th></th>\n",
       "      <th>Tiredness</th>\n",
       "      <th>Dry-Cough</th>\n",
       "      <th>Difficulty-in-Breathing</th>\n",
       "      <th>Sore-Throat</th>\n",
       "      <th>None_Sympton</th>\n",
       "      <th>Pains</th>\n",
       "      <th>Nasal-Congestion</th>\n",
       "      <th>Runny-Nose</th>\n",
       "      <th>None_Experiencing</th>\n",
       "      <th>Severity</th>\n",
       "      <th>Age</th>\n",
       "      <th>Gender</th>\n",
       "    </tr>\n",
       "  </thead>\n",
       "  <tbody>\n",
       "    <tr>\n",
       "      <th>Tiredness</th>\n",
       "      <td>1.000000e+00</td>\n",
       "      <td>3.535534e-01</td>\n",
       "      <td>4.961737e-17</td>\n",
       "      <td>-1.250000e-01</td>\n",
       "      <td>-2.132007e-01</td>\n",
       "      <td>-2.210676e-17</td>\n",
       "      <td>8.353383e-17</td>\n",
       "      <td>-6.482115e-18</td>\n",
       "      <td>-1.866861e-17</td>\n",
       "      <td>1.671303e-17</td>\n",
       "      <td>-1.443608e-15</td>\n",
       "      <td>-1.143011e-16</td>\n",
       "    </tr>\n",
       "    <tr>\n",
       "      <th>Dry-Cough</th>\n",
       "      <td>3.535534e-01</td>\n",
       "      <td>1.000000e+00</td>\n",
       "      <td>3.333333e-01</td>\n",
       "      <td>-2.796727e-17</td>\n",
       "      <td>-3.015113e-01</td>\n",
       "      <td>-3.157223e-17</td>\n",
       "      <td>6.121646e-17</td>\n",
       "      <td>-1.210335e-17</td>\n",
       "      <td>-1.375437e-17</td>\n",
       "      <td>5.785684e-17</td>\n",
       "      <td>-1.038987e-15</td>\n",
       "      <td>-2.690680e-16</td>\n",
       "    </tr>\n",
       "    <tr>\n",
       "      <th>Difficulty-in-Breathing</th>\n",
       "      <td>4.961737e-17</td>\n",
       "      <td>3.333333e-01</td>\n",
       "      <td>1.000000e+00</td>\n",
       "      <td>3.535534e-01</td>\n",
       "      <td>-3.015113e-01</td>\n",
       "      <td>8.281241e-18</td>\n",
       "      <td>2.374644e-17</td>\n",
       "      <td>-1.592546e-19</td>\n",
       "      <td>-8.509060e-18</td>\n",
       "      <td>1.427457e-17</td>\n",
       "      <td>-5.207473e-16</td>\n",
       "      <td>-2.928634e-16</td>\n",
       "    </tr>\n",
       "    <tr>\n",
       "      <th>Sore-Throat</th>\n",
       "      <td>-1.250000e-01</td>\n",
       "      <td>-2.796727e-17</td>\n",
       "      <td>3.535534e-01</td>\n",
       "      <td>1.000000e+00</td>\n",
       "      <td>-2.132007e-01</td>\n",
       "      <td>2.892670e-17</td>\n",
       "      <td>-8.627331e-18</td>\n",
       "      <td>9.163642e-18</td>\n",
       "      <td>4.945326e-19</td>\n",
       "      <td>-2.286613e-17</td>\n",
       "      <td>-9.838484e-16</td>\n",
       "      <td>1.820305e-17</td>\n",
       "    </tr>\n",
       "    <tr>\n",
       "      <th>None_Sympton</th>\n",
       "      <td>-2.132007e-01</td>\n",
       "      <td>-3.015113e-01</td>\n",
       "      <td>-3.015113e-01</td>\n",
       "      <td>-2.132007e-01</td>\n",
       "      <td>1.000000e+00</td>\n",
       "      <td>3.910991e-17</td>\n",
       "      <td>-1.318058e-17</td>\n",
       "      <td>1.598969e-17</td>\n",
       "      <td>4.217389e-18</td>\n",
       "      <td>-5.960028e-17</td>\n",
       "      <td>-7.893956e-16</td>\n",
       "      <td>6.004455e-17</td>\n",
       "    </tr>\n",
       "    <tr>\n",
       "      <th>Pains</th>\n",
       "      <td>-2.210676e-17</td>\n",
       "      <td>-3.157223e-17</td>\n",
       "      <td>8.281241e-18</td>\n",
       "      <td>2.892670e-17</td>\n",
       "      <td>3.910991e-17</td>\n",
       "      <td>1.000000e+00</td>\n",
       "      <td>2.581989e-01</td>\n",
       "      <td>-6.666667e-02</td>\n",
       "      <td>-2.927700e-01</td>\n",
       "      <td>8.982728e-18</td>\n",
       "      <td>6.696919e-16</td>\n",
       "      <td>1.194659e-17</td>\n",
       "    </tr>\n",
       "    <tr>\n",
       "      <th>Nasal-Congestion</th>\n",
       "      <td>8.353383e-17</td>\n",
       "      <td>6.121646e-17</td>\n",
       "      <td>2.374644e-17</td>\n",
       "      <td>-8.627331e-18</td>\n",
       "      <td>-1.318058e-17</td>\n",
       "      <td>2.581989e-01</td>\n",
       "      <td>1.000000e+00</td>\n",
       "      <td>2.581989e-01</td>\n",
       "      <td>-3.779645e-01</td>\n",
       "      <td>4.206516e-18</td>\n",
       "      <td>-4.197817e-17</td>\n",
       "      <td>-4.338892e-17</td>\n",
       "    </tr>\n",
       "    <tr>\n",
       "      <th>Runny-Nose</th>\n",
       "      <td>-6.482115e-18</td>\n",
       "      <td>-1.210335e-17</td>\n",
       "      <td>-1.592546e-19</td>\n",
       "      <td>9.163642e-18</td>\n",
       "      <td>1.598969e-17</td>\n",
       "      <td>-6.666667e-02</td>\n",
       "      <td>2.581989e-01</td>\n",
       "      <td>1.000000e+00</td>\n",
       "      <td>-2.927700e-01</td>\n",
       "      <td>-2.848834e-19</td>\n",
       "      <td>4.919932e-16</td>\n",
       "      <td>1.087383e-17</td>\n",
       "    </tr>\n",
       "    <tr>\n",
       "      <th>None_Experiencing</th>\n",
       "      <td>-1.866861e-17</td>\n",
       "      <td>-1.375437e-17</td>\n",
       "      <td>-8.509060e-18</td>\n",
       "      <td>4.945326e-19</td>\n",
       "      <td>4.217389e-18</td>\n",
       "      <td>-2.927700e-01</td>\n",
       "      <td>-3.779645e-01</td>\n",
       "      <td>-2.927700e-01</td>\n",
       "      <td>1.000000e+00</td>\n",
       "      <td>2.085133e-19</td>\n",
       "      <td>2.649047e-16</td>\n",
       "      <td>7.209343e-18</td>\n",
       "    </tr>\n",
       "    <tr>\n",
       "      <th>Severity</th>\n",
       "      <td>1.671303e-17</td>\n",
       "      <td>5.785684e-17</td>\n",
       "      <td>1.427457e-17</td>\n",
       "      <td>-2.286613e-17</td>\n",
       "      <td>-5.960028e-17</td>\n",
       "      <td>8.982728e-18</td>\n",
       "      <td>4.206516e-18</td>\n",
       "      <td>-2.848834e-19</td>\n",
       "      <td>2.085133e-19</td>\n",
       "      <td>1.000000e+00</td>\n",
       "      <td>5.295507e-16</td>\n",
       "      <td>1.476106e-16</td>\n",
       "    </tr>\n",
       "    <tr>\n",
       "      <th>Age</th>\n",
       "      <td>-1.443608e-15</td>\n",
       "      <td>-1.038987e-15</td>\n",
       "      <td>-5.207473e-16</td>\n",
       "      <td>-9.838484e-16</td>\n",
       "      <td>-7.893956e-16</td>\n",
       "      <td>6.696919e-16</td>\n",
       "      <td>-4.197817e-17</td>\n",
       "      <td>4.919932e-16</td>\n",
       "      <td>2.649047e-16</td>\n",
       "      <td>5.295507e-16</td>\n",
       "      <td>1.000000e+00</td>\n",
       "      <td>-2.155988e-16</td>\n",
       "    </tr>\n",
       "    <tr>\n",
       "      <th>Gender</th>\n",
       "      <td>-1.143011e-16</td>\n",
       "      <td>-2.690680e-16</td>\n",
       "      <td>-2.928634e-16</td>\n",
       "      <td>1.820305e-17</td>\n",
       "      <td>6.004455e-17</td>\n",
       "      <td>1.194659e-17</td>\n",
       "      <td>-4.338892e-17</td>\n",
       "      <td>1.087383e-17</td>\n",
       "      <td>7.209343e-18</td>\n",
       "      <td>1.476106e-16</td>\n",
       "      <td>-2.155988e-16</td>\n",
       "      <td>1.000000e+00</td>\n",
       "    </tr>\n",
       "  </tbody>\n",
       "</table>\n",
       "</div>"
      ],
      "text/plain": [
       "                            Tiredness     Dry-Cough  Difficulty-in-Breathing  \\\n",
       "Tiredness                1.000000e+00  3.535534e-01             4.961737e-17   \n",
       "Dry-Cough                3.535534e-01  1.000000e+00             3.333333e-01   \n",
       "Difficulty-in-Breathing  4.961737e-17  3.333333e-01             1.000000e+00   \n",
       "Sore-Throat             -1.250000e-01 -2.796727e-17             3.535534e-01   \n",
       "None_Sympton            -2.132007e-01 -3.015113e-01            -3.015113e-01   \n",
       "Pains                   -2.210676e-17 -3.157223e-17             8.281241e-18   \n",
       "Nasal-Congestion         8.353383e-17  6.121646e-17             2.374644e-17   \n",
       "Runny-Nose              -6.482115e-18 -1.210335e-17            -1.592546e-19   \n",
       "None_Experiencing       -1.866861e-17 -1.375437e-17            -8.509060e-18   \n",
       "Severity                 1.671303e-17  5.785684e-17             1.427457e-17   \n",
       "Age                     -1.443608e-15 -1.038987e-15            -5.207473e-16   \n",
       "Gender                  -1.143011e-16 -2.690680e-16            -2.928634e-16   \n",
       "\n",
       "                          Sore-Throat  None_Sympton         Pains  \\\n",
       "Tiredness               -1.250000e-01 -2.132007e-01 -2.210676e-17   \n",
       "Dry-Cough               -2.796727e-17 -3.015113e-01 -3.157223e-17   \n",
       "Difficulty-in-Breathing  3.535534e-01 -3.015113e-01  8.281241e-18   \n",
       "Sore-Throat              1.000000e+00 -2.132007e-01  2.892670e-17   \n",
       "None_Sympton            -2.132007e-01  1.000000e+00  3.910991e-17   \n",
       "Pains                    2.892670e-17  3.910991e-17  1.000000e+00   \n",
       "Nasal-Congestion        -8.627331e-18 -1.318058e-17  2.581989e-01   \n",
       "Runny-Nose               9.163642e-18  1.598969e-17 -6.666667e-02   \n",
       "None_Experiencing        4.945326e-19  4.217389e-18 -2.927700e-01   \n",
       "Severity                -2.286613e-17 -5.960028e-17  8.982728e-18   \n",
       "Age                     -9.838484e-16 -7.893956e-16  6.696919e-16   \n",
       "Gender                   1.820305e-17  6.004455e-17  1.194659e-17   \n",
       "\n",
       "                         Nasal-Congestion    Runny-Nose  None_Experiencing  \\\n",
       "Tiredness                    8.353383e-17 -6.482115e-18      -1.866861e-17   \n",
       "Dry-Cough                    6.121646e-17 -1.210335e-17      -1.375437e-17   \n",
       "Difficulty-in-Breathing      2.374644e-17 -1.592546e-19      -8.509060e-18   \n",
       "Sore-Throat                 -8.627331e-18  9.163642e-18       4.945326e-19   \n",
       "None_Sympton                -1.318058e-17  1.598969e-17       4.217389e-18   \n",
       "Pains                        2.581989e-01 -6.666667e-02      -2.927700e-01   \n",
       "Nasal-Congestion             1.000000e+00  2.581989e-01      -3.779645e-01   \n",
       "Runny-Nose                   2.581989e-01  1.000000e+00      -2.927700e-01   \n",
       "None_Experiencing           -3.779645e-01 -2.927700e-01       1.000000e+00   \n",
       "Severity                     4.206516e-18 -2.848834e-19       2.085133e-19   \n",
       "Age                         -4.197817e-17  4.919932e-16       2.649047e-16   \n",
       "Gender                      -4.338892e-17  1.087383e-17       7.209343e-18   \n",
       "\n",
       "                             Severity           Age        Gender  \n",
       "Tiredness                1.671303e-17 -1.443608e-15 -1.143011e-16  \n",
       "Dry-Cough                5.785684e-17 -1.038987e-15 -2.690680e-16  \n",
       "Difficulty-in-Breathing  1.427457e-17 -5.207473e-16 -2.928634e-16  \n",
       "Sore-Throat             -2.286613e-17 -9.838484e-16  1.820305e-17  \n",
       "None_Sympton            -5.960028e-17 -7.893956e-16  6.004455e-17  \n",
       "Pains                    8.982728e-18  6.696919e-16  1.194659e-17  \n",
       "Nasal-Congestion         4.206516e-18 -4.197817e-17 -4.338892e-17  \n",
       "Runny-Nose              -2.848834e-19  4.919932e-16  1.087383e-17  \n",
       "None_Experiencing        2.085133e-19  2.649047e-16  7.209343e-18  \n",
       "Severity                 1.000000e+00  5.295507e-16  1.476106e-16  \n",
       "Age                      5.295507e-16  1.000000e+00 -2.155988e-16  \n",
       "Gender                   1.476106e-16 -2.155988e-16  1.000000e+00  "
      ]
     },
     "execution_count": 25,
     "metadata": {},
     "output_type": "execute_result"
    }
   ],
   "source": [
    "df.corr()"
   ]
  },
  {
   "cell_type": "code",
   "execution_count": 26,
   "id": "9a079805",
   "metadata": {
    "execution": {
     "iopub.execute_input": "2024-08-11T12:01:24.312236Z",
     "iopub.status.busy": "2024-08-11T12:01:24.311814Z",
     "iopub.status.idle": "2024-08-11T12:01:25.822801Z",
     "shell.execute_reply": "2024-08-11T12:01:25.821438Z"
    },
    "papermill": {
     "duration": 1.538996,
     "end_time": "2024-08-11T12:01:25.826169",
     "exception": false,
     "start_time": "2024-08-11T12:01:24.287173",
     "status": "completed"
    },
    "tags": []
   },
   "outputs": [],
   "source": [
    "import seaborn as sns"
   ]
  },
  {
   "cell_type": "code",
   "execution_count": 27,
   "id": "5716b7bd",
   "metadata": {
    "execution": {
     "iopub.execute_input": "2024-08-11T12:01:25.871095Z",
     "iopub.status.busy": "2024-08-11T12:01:25.870469Z",
     "iopub.status.idle": "2024-08-11T12:01:25.876952Z",
     "shell.execute_reply": "2024-08-11T12:01:25.875526Z"
    },
    "papermill": {
     "duration": 0.032503,
     "end_time": "2024-08-11T12:01:25.879901",
     "exception": false,
     "start_time": "2024-08-11T12:01:25.847398",
     "status": "completed"
    },
    "tags": []
   },
   "outputs": [],
   "source": [
    "import matplotlib.pyplot as plt\n",
    "import seaborn as sns"
   ]
  },
  {
   "cell_type": "code",
   "execution_count": 28,
   "id": "74ece91a",
   "metadata": {
    "execution": {
     "iopub.execute_input": "2024-08-11T12:01:25.925156Z",
     "iopub.status.busy": "2024-08-11T12:01:25.924732Z",
     "iopub.status.idle": "2024-08-11T12:01:27.237140Z",
     "shell.execute_reply": "2024-08-11T12:01:27.235773Z"
    },
    "papermill": {
     "duration": 1.339639,
     "end_time": "2024-08-11T12:01:27.241983",
     "exception": false,
     "start_time": "2024-08-11T12:01:25.902344",
     "status": "completed"
    },
    "tags": []
   },
   "outputs": [
    {
     "data": {
      "text/plain": [
       "<Axes: >"
      ]
     },
     "execution_count": 28,
     "metadata": {},
     "output_type": "execute_result"
    },
    {
     "data": {
      "image/png": "[encoded data removed]",
      "text/plain": [
       "<Figure size 2000x2000 with 2 Axes>"
      ]
     },
     "metadata": {},
     "output_type": "display_data"
    }
   ],
   "source": [
    "plt.figure(figsize=(20,20))\n",
    "sns.heatmap(df.corr(),annot=True,cmap='YlGnBu')"
   ]
  },
  {
   "cell_type": "code",
   "execution_count": 29,
   "id": "b70f6a65",
   "metadata": {
    "execution": {
     "iopub.execute_input": "2024-08-11T12:01:27.290987Z",
     "iopub.status.busy": "2024-08-11T12:01:27.290564Z",
     "iopub.status.idle": "2024-08-11T12:02:27.786013Z",
     "shell.execute_reply": "2024-08-11T12:02:27.784432Z"
    },
    "papermill": {
     "duration": 60.525736,
     "end_time": "2024-08-11T12:02:27.790618",
     "exception": false,
     "start_time": "2024-08-11T12:01:27.264882",
     "status": "completed"
    },
    "tags": []
   },
   "outputs": [
    {
     "name": "stderr",
     "output_type": "stream",
     "text": [
      "/opt/conda/lib/python3.10/site-packages/seaborn/_oldcore.py:1119: FutureWarning: use_inf_as_na option is deprecated and will be removed in a future version. Convert inf values to NaN before operating instead.\n",
      "  with pd.option_context('mode.use_inf_as_na', True):\n",
      "/opt/conda/lib/python3.10/site-packages/seaborn/_oldcore.py:1119: FutureWarning: use_inf_as_na option is deprecated and will be removed in a future version. Convert inf values to NaN before operating instead.\n",
      "  with pd.option_context('mode.use_inf_as_na', True):\n",
      "/opt/conda/lib/python3.10/site-packages/seaborn/_oldcore.py:1119: FutureWarning: use_inf_as_na option is deprecated and will be removed in a future version. Convert inf values to NaN before operating instead.\n",
      "  with pd.option_context('mode.use_inf_as_na', True):\n",
      "/opt/conda/lib/python3.10/site-packages/seaborn/_oldcore.py:1119: FutureWarning: use_inf_as_na option is deprecated and will be removed in a future version. Convert inf values to NaN before operating instead.\n",
      "  with pd.option_context('mode.use_inf_as_na', True):\n",
      "/opt/conda/lib/python3.10/site-packages/seaborn/_oldcore.py:1119: FutureWarning: use_inf_as_na option is deprecated and will be removed in a future version. Convert inf values to NaN before operating instead.\n",
      "  with pd.option_context('mode.use_inf_as_na', True):\n",
      "/opt/conda/lib/python3.10/site-packages/seaborn/_oldcore.py:1119: FutureWarning: use_inf_as_na option is deprecated and will be removed in a future version. Convert inf values to NaN before operating instead.\n",
      "  with pd.option_context('mode.use_inf_as_na', True):\n",
      "/opt/conda/lib/python3.10/site-packages/seaborn/_oldcore.py:1119: FutureWarning: use_inf_as_na option is deprecated and will be removed in a future version. Convert inf values to NaN before operating instead.\n",
      "  with pd.option_context('mode.use_inf_as_na', True):\n",
      "/opt/conda/lib/python3.10/site-packages/seaborn/_oldcore.py:1119: FutureWarning: use_inf_as_na option is deprecated and will be removed in a future version. Convert inf values to NaN before operating instead.\n",
      "  with pd.option_context('mode.use_inf_as_na', True):\n",
      "/opt/conda/lib/python3.10/site-packages/seaborn/_oldcore.py:1119: FutureWarning: use_inf_as_na option is deprecated and will be removed in a future version. Convert inf values to NaN before operating instead.\n",
      "  with pd.option_context('mode.use_inf_as_na', True):\n",
      "/opt/conda/lib/python3.10/site-packages/seaborn/_oldcore.py:1119: FutureWarning: use_inf_as_na option is deprecated and will be removed in a future version. Convert inf values to NaN before operating instead.\n",
      "  with pd.option_context('mode.use_inf_as_na', True):\n",
      "/opt/conda/lib/python3.10/site-packages/seaborn/_oldcore.py:1119: FutureWarning: use_inf_as_na option is deprecated and will be removed in a future version. Convert inf values to NaN before operating instead.\n",
      "  with pd.option_context('mode.use_inf_as_na', True):\n",
      "/opt/conda/lib/python3.10/site-packages/seaborn/_oldcore.py:1119: FutureWarning: use_inf_as_na option is deprecated and will be removed in a future version. Convert inf values to NaN before operating instead.\n",
      "  with pd.option_context('mode.use_inf_as_na', True):\n"
     ]
    },
    {
     "data": {
      "text/plain": [
       "<seaborn.axisgrid.PairGrid at 0x7db4da74cca0>"
      ]
     },
     "execution_count": 29,
     "metadata": {},
     "output_type": "execute_result"
    },
    {
     "data": {
      "image/png": "[encoded data removed]",
      "text/plain": [
       "<Figure size 3000x3000 with 156 Axes>"
      ]
     },
     "metadata": {},
     "output_type": "display_data"
    }
   ],
   "source": [
    "sns.pairplot(df)"
   ]
  },
  {
   "cell_type": "code",
   "execution_count": 30,
   "id": "169144ee",
   "metadata": {
    "execution": {
     "iopub.execute_input": "2024-08-11T12:02:27.844859Z",
     "iopub.status.busy": "2024-08-11T12:02:27.844456Z",
     "iopub.status.idle": "2024-08-11T12:02:27.855780Z",
     "shell.execute_reply": "2024-08-11T12:02:27.854475Z"
    },
    "papermill": {
     "duration": 0.04166,
     "end_time": "2024-08-11T12:02:27.858417",
     "exception": false,
     "start_time": "2024-08-11T12:02:27.816757",
     "status": "completed"
    },
    "tags": []
   },
   "outputs": [
    {
     "data": {
      "text/plain": [
       "Tiredness                  0\n",
       "Dry-Cough                  0\n",
       "Difficulty-in-Breathing    0\n",
       "Sore-Throat                0\n",
       "None_Sympton               0\n",
       "Pains                      0\n",
       "Nasal-Congestion           0\n",
       "Runny-Nose                 0\n",
       "None_Experiencing          0\n",
       "Severity                   0\n",
       "Age                        0\n",
       "Gender                     0\n",
       "dtype: int64"
      ]
     },
     "execution_count": 30,
     "metadata": {},
     "output_type": "execute_result"
    }
   ],
   "source": [
    "df.isnull().sum()"
   ]
  },
  {
   "cell_type": "code",
   "execution_count": 31,
   "id": "619b8014",
   "metadata": {
    "execution": {
     "iopub.execute_input": "2024-08-11T12:02:27.913058Z",
     "iopub.status.busy": "2024-08-11T12:02:27.912558Z",
     "iopub.status.idle": "2024-08-11T12:02:28.505189Z",
     "shell.execute_reply": "2024-08-11T12:02:28.503670Z"
    },
    "papermill": {
     "duration": 0.624155,
     "end_time": "2024-08-11T12:02:28.508812",
     "exception": false,
     "start_time": "2024-08-11T12:02:27.884657",
     "status": "completed"
    },
    "tags": []
   },
   "outputs": [],
   "source": [
    "from sklearn.model_selection import train_test_split"
   ]
  },
  {
   "cell_type": "code",
   "execution_count": 32,
   "id": "d2603df7",
   "metadata": {
    "execution": {
     "iopub.execute_input": "2024-08-11T12:02:28.566188Z",
     "iopub.status.busy": "2024-08-11T12:02:28.565712Z",
     "iopub.status.idle": "2024-08-11T12:02:28.575233Z",
     "shell.execute_reply": "2024-08-11T12:02:28.573508Z"
    },
    "papermill": {
     "duration": 0.042046,
     "end_time": "2024-08-11T12:02:28.578380",
     "exception": false,
     "start_time": "2024-08-11T12:02:28.536334",
     "status": "completed"
    },
    "tags": []
   },
   "outputs": [],
   "source": [
    "X = df.drop(columns=\"Severity\")\n",
    "y=df.Severity"
   ]
  },
  {
   "cell_type": "code",
   "execution_count": 33,
   "id": "b6d62cf1",
   "metadata": {
    "execution": {
     "iopub.execute_input": "2024-08-11T12:02:28.637285Z",
     "iopub.status.busy": "2024-08-11T12:02:28.636783Z",
     "iopub.status.idle": "2024-08-11T12:02:28.650528Z",
     "shell.execute_reply": "2024-08-11T12:02:28.649263Z"
    },
    "papermill": {
     "duration": 0.04775,
     "end_time": "2024-08-11T12:02:28.653802",
     "exception": false,
     "start_time": "2024-08-11T12:02:28.606052",
     "status": "completed"
    },
    "tags": []
   },
   "outputs": [],
   "source": [
    "X_train,X_test,y_train,y_test=train_test_split(X,y,test_size=0.25,stratify=y)"
   ]
  },
  {
   "cell_type": "code",
   "execution_count": 34,
   "id": "8bdd354e",
   "metadata": {
    "execution": {
     "iopub.execute_input": "2024-08-11T12:02:28.713330Z",
     "iopub.status.busy": "2024-08-11T12:02:28.712861Z",
     "iopub.status.idle": "2024-08-11T12:02:28.722186Z",
     "shell.execute_reply": "2024-08-11T12:02:28.720620Z"
    },
    "papermill": {
     "duration": 0.042903,
     "end_time": "2024-08-11T12:02:28.725626",
     "exception": false,
     "start_time": "2024-08-11T12:02:28.682723",
     "status": "completed"
    },
    "tags": []
   },
   "outputs": [
    {
     "data": {
      "text/plain": [
       "(4320, 11)"
      ]
     },
     "execution_count": 34,
     "metadata": {},
     "output_type": "execute_result"
    }
   ],
   "source": [
    "X_train.shape"
   ]
  },
  {
   "cell_type": "code",
   "execution_count": 35,
   "id": "e74bac61",
   "metadata": {
    "execution": {
     "iopub.execute_input": "2024-08-11T12:02:28.786555Z",
     "iopub.status.busy": "2024-08-11T12:02:28.786051Z",
     "iopub.status.idle": "2024-08-11T12:02:28.792962Z",
     "shell.execute_reply": "2024-08-11T12:02:28.791503Z"
    },
    "papermill": {
     "duration": 0.041168,
     "end_time": "2024-08-11T12:02:28.796086",
     "exception": false,
     "start_time": "2024-08-11T12:02:28.754918",
     "status": "completed"
    },
    "tags": []
   },
   "outputs": [],
   "source": [
    "from sklearn.preprocessing import MinMaxScaler"
   ]
  },
  {
   "cell_type": "code",
   "execution_count": 36,
   "id": "0a7101dc",
   "metadata": {
    "execution": {
     "iopub.execute_input": "2024-08-11T12:02:28.855711Z",
     "iopub.status.busy": "2024-08-11T12:02:28.854632Z",
     "iopub.status.idle": "2024-08-11T12:02:28.860803Z",
     "shell.execute_reply": "2024-08-11T12:02:28.859339Z"
    },
    "papermill": {
     "duration": 0.039252,
     "end_time": "2024-08-11T12:02:28.863637",
     "exception": false,
     "start_time": "2024-08-11T12:02:28.824385",
     "status": "completed"
    },
    "tags": []
   },
   "outputs": [],
   "source": [
    "scale=MinMaxScaler()"
   ]
  },
  {
   "cell_type": "code",
   "execution_count": 37,
   "id": "059576cc",
   "metadata": {
    "execution": {
     "iopub.execute_input": "2024-08-11T12:02:28.922687Z",
     "iopub.status.busy": "2024-08-11T12:02:28.921985Z",
     "iopub.status.idle": "2024-08-11T12:02:28.938197Z",
     "shell.execute_reply": "2024-08-11T12:02:28.936463Z"
    },
    "papermill": {
     "duration": 0.050771,
     "end_time": "2024-08-11T12:02:28.942049",
     "exception": false,
     "start_time": "2024-08-11T12:02:28.891278",
     "status": "completed"
    },
    "tags": []
   },
   "outputs": [],
   "source": [
    "X_train_sc=scale.fit_transform(X_train,y_train)\n",
    "X_test_sc=scale.transform(X_test)"
   ]
  },
  {
   "cell_type": "code",
   "execution_count": 38,
   "id": "63c6983d",
   "metadata": {
    "execution": {
     "iopub.execute_input": "2024-08-11T12:02:29.004802Z",
     "iopub.status.busy": "2024-08-11T12:02:29.004335Z",
     "iopub.status.idle": "2024-08-11T12:02:29.311274Z",
     "shell.execute_reply": "2024-08-11T12:02:29.309544Z"
    },
    "papermill": {
     "duration": 0.342317,
     "end_time": "2024-08-11T12:02:29.314690",
     "exception": false,
     "start_time": "2024-08-11T12:02:28.972373",
     "status": "completed"
    },
    "tags": []
   },
   "outputs": [],
   "source": [
    "from sklearn.linear_model import LogisticRegression\n",
    "from sklearn.neighbors import KNeighborsClassifier\n",
    "from sklearn.tree import DecisionTreeClassifier\n",
    "from sklearn.ensemble import RandomForestClassifier"
   ]
  },
  {
   "cell_type": "code",
   "execution_count": 39,
   "id": "0c2d88d0",
   "metadata": {
    "execution": {
     "iopub.execute_input": "2024-08-11T12:02:29.375174Z",
     "iopub.status.busy": "2024-08-11T12:02:29.374705Z",
     "iopub.status.idle": "2024-08-11T12:02:29.382044Z",
     "shell.execute_reply": "2024-08-11T12:02:29.380476Z"
    },
    "papermill": {
     "duration": 0.041112,
     "end_time": "2024-08-11T12:02:29.385503",
     "exception": false,
     "start_time": "2024-08-11T12:02:29.344391",
     "status": "completed"
    },
    "tags": []
   },
   "outputs": [],
   "source": [
    "lr=LogisticRegression()\n",
    "knn=KNeighborsClassifier()\n",
    "dt=DecisionTreeClassifier()\n",
    "rf=RandomForestClassifier()"
   ]
  },
  {
   "cell_type": "code",
   "execution_count": 40,
   "id": "f0b6baf8",
   "metadata": {
    "execution": {
     "iopub.execute_input": "2024-08-11T12:02:29.443194Z",
     "iopub.status.busy": "2024-08-11T12:02:29.442773Z",
     "iopub.status.idle": "2024-08-11T12:02:30.182430Z",
     "shell.execute_reply": "2024-08-11T12:02:30.180884Z"
    },
    "papermill": {
     "duration": 0.771955,
     "end_time": "2024-08-11T12:02:30.185219",
     "exception": false,
     "start_time": "2024-08-11T12:02:29.413264",
     "status": "completed"
    },
    "tags": []
   },
   "outputs": [
    {
     "data": {
      "text/html": [
       "<style>#sk-container-id-1 {color: black;background-color: white;}#sk-container-id-1 pre{padding: 0;}#sk-container-id-1 div.sk-toggleable {background-color: white;}#sk-container-id-1 label.sk-toggleable__label {cursor: pointer;display: block;width: 100%;margin-bottom: 0;padding: 0.3em;box-sizing: border-box;text-align: center;}#sk-container-id-1 label.sk-toggleable__label-arrow:before {content: \"▸\";float: left;margin-right: 0.25em;color: #696969;}#sk-container-id-1 label.sk-toggleable__label-arrow:hover:before {color: black;}#sk-container-id-1 div.sk-estimator:hover label.sk-toggleable__label-arrow:before {color: black;}#sk-container-id-1 div.sk-toggleable__content {max-height: 0;max-width: 0;overflow: hidden;text-align: left;background-color: #f0f8ff;}#sk-container-id-1 div.sk-toggleable__content pre {margin: 0.2em;color: black;border-radius: 0.25em;background-color: #f0f8ff;}#sk-container-id-1 input.sk-toggleable__control:checked~div.sk-toggleable__content {max-height: 200px;max-width: 100%;overflow: auto;}#sk-container-id-1 input.sk-toggleable__control:checked~label.sk-toggleable__label-arrow:before {content: \"▾\";}#sk-container-id-1 div.sk-estimator input.sk-toggleable__control:checked~label.sk-toggleable__label {background-color: #d4ebff;}#sk-container-id-1 div.sk-label input.sk-toggleable__control:checked~label.sk-toggleable__label {background-color: #d4ebff;}#sk-container-id-1 input.sk-hidden--visually {border: 0;clip: rect(1px 1px 1px 1px);clip: rect(1px, 1px, 1px, 1px);height: 1px;margin: -1px;overflow: hidden;padding: 0;position: absolute;width: 1px;}#sk-container-id-1 div.sk-estimator {font-family: monospace;background-color: #f0f8ff;border: 1px dotted black;border-radius: 0.25em;box-sizing: border-box;margin-bottom: 0.5em;}#sk-container-id-1 div.sk-estimator:hover {background-color: #d4ebff;}#sk-container-id-1 div.sk-parallel-item::after {content: \"\";width: 100%;border-bottom: 1px solid gray;flex-grow: 1;}#sk-container-id-1 div.sk-label:hover label.sk-toggleable__label {background-color: #d4ebff;}#sk-container-id-1 div.sk-serial::before {content: \"\";position: absolute;border-left: 1px solid gray;box-sizing: border-box;top: 0;bottom: 0;left: 50%;z-index: 0;}#sk-container-id-1 div.sk-serial {display: flex;flex-direction: column;align-items: center;background-color: white;padding-right: 0.2em;padding-left: 0.2em;position: relative;}#sk-container-id-1 div.sk-item {position: relative;z-index: 1;}#sk-container-id-1 div.sk-parallel {display: flex;align-items: stretch;justify-content: center;background-color: white;position: relative;}#sk-container-id-1 div.sk-item::before, #sk-container-id-1 div.sk-parallel-item::before {content: \"\";position: absolute;border-left: 1px solid gray;box-sizing: border-box;top: 0;bottom: 0;left: 50%;z-index: -1;}#sk-container-id-1 div.sk-parallel-item {display: flex;flex-direction: column;z-index: 1;position: relative;background-color: white;}#sk-container-id-1 div.sk-parallel-item:first-child::after {align-self: flex-end;width: 50%;}#sk-container-id-1 div.sk-parallel-item:last-child::after {align-self: flex-start;width: 50%;}#sk-container-id-1 div.sk-parallel-item:only-child::after {width: 0;}#sk-container-id-1 div.sk-dashed-wrapped {border: 1px dashed gray;margin: 0 0.4em 0.5em 0.4em;box-sizing: border-box;padding-bottom: 0.4em;background-color: white;}#sk-container-id-1 div.sk-label label {font-family: monospace;font-weight: bold;display: inline-block;line-height: 1.2em;}#sk-container-id-1 div.sk-label-container {text-align: center;}#sk-container-id-1 div.sk-container {/* jupyter's `normalize.less` sets `[hidden] { display: none; }` but bootstrap.min.css set `[hidden] { display: none !important; }` so we also need the `!important` here to be able to override the default hidden behavior on the sphinx rendered scikit-learn.org. See: https://github.com/scikit-learn/scikit-learn/issues/21755 */display: inline-block !important;position: relative;}#sk-container-id-1 div.sk-text-repr-fallback {display: none;}</style><div id=\"sk-container-id-1\" class=\"sk-top-container\"><div class=\"sk-text-repr-fallback\"><pre>RandomForestClassifier()</pre><b>In a Jupyter environment, please rerun this cell to show the HTML representation or trust the notebook. <br />On GitHub, the HTML representation is unable to render, please try loading this page with nbviewer.org.</b></div><div class=\"sk-container\" hidden><div class=\"sk-item\"><div class=\"sk-estimator sk-toggleable\"><input class=\"sk-toggleable__control sk-hidden--visually\" id=\"sk-estimator-id-1\" type=\"checkbox\" checked><label for=\"sk-estimator-id-1\" class=\"sk-toggleable__label sk-toggleable__label-arrow\">RandomForestClassifier</label><div class=\"sk-toggleable__content\"><pre>RandomForestClassifier()</pre></div></div></div></div></div>"
      ],
      "text/plain": [
       "RandomForestClassifier()"
      ]
     },
     "execution_count": 40,
     "metadata": {},
     "output_type": "execute_result"
    }
   ],
   "source": [
    "lr.fit(X_train_sc,y_train)\n",
    "knn.fit(X_train_sc,y_train)\n",
    "dt.fit(X_train_sc,y_train)\n",
    "rf.fit(X_train_sc,y_train)"
   ]
  },
  {
   "cell_type": "code",
   "execution_count": 41,
   "id": "afce5cc3",
   "metadata": {
    "execution": {
     "iopub.execute_input": "2024-08-11T12:02:30.244222Z",
     "iopub.status.busy": "2024-08-11T12:02:30.243703Z",
     "iopub.status.idle": "2024-08-11T12:02:30.422500Z",
     "shell.execute_reply": "2024-08-11T12:02:30.421064Z"
    },
    "papermill": {
     "duration": 0.213703,
     "end_time": "2024-08-11T12:02:30.425787",
     "exception": false,
     "start_time": "2024-08-11T12:02:30.212084",
     "status": "completed"
    },
    "tags": []
   },
   "outputs": [],
   "source": [
    "y_pred_lr=lr.predict(X_test_sc)\n",
    "y_pred_knn=knn.predict(X_test_sc)\n",
    "y_pred_dt=dt.predict(X_test_sc)\n",
    "y_pred_rf=rf.predict(X_test_sc)"
   ]
  },
  {
   "cell_type": "code",
   "execution_count": 42,
   "id": "3368feeb",
   "metadata": {
    "execution": {
     "iopub.execute_input": "2024-08-11T12:02:30.484794Z",
     "iopub.status.busy": "2024-08-11T12:02:30.484295Z",
     "iopub.status.idle": "2024-08-11T12:02:30.535452Z",
     "shell.execute_reply": "2024-08-11T12:02:30.533736Z"
    },
    "papermill": {
     "duration": 0.084928,
     "end_time": "2024-08-11T12:02:30.538960",
     "exception": false,
     "start_time": "2024-08-11T12:02:30.454032",
     "status": "completed"
    },
    "tags": []
   },
   "outputs": [
    {
     "name": "stdout",
     "output_type": "stream",
     "text": [
      "classification_report for knn\n",
      "              precision    recall  f1-score   support\n",
      "\n",
      "           0       0.04      0.07      0.05       360\n",
      "           1       0.05      0.05      0.05       360\n",
      "           2       0.05      0.04      0.05       360\n",
      "           3       0.04      0.02      0.03       360\n",
      "\n",
      "    accuracy                           0.05      1440\n",
      "   macro avg       0.05      0.05      0.04      1440\n",
      "weighted avg       0.05      0.05      0.04      1440\n",
      "\n",
      "classification_report for decision tree\n",
      "              precision    recall  f1-score   support\n",
      "\n",
      "           0       0.00      0.01      0.01       360\n",
      "           1       0.00      0.00      0.00       360\n",
      "           2       0.00      0.00      0.00       360\n",
      "           3       0.00      0.00      0.00       360\n",
      "\n",
      "    accuracy                           0.00      1440\n",
      "   macro avg       0.00      0.00      0.00      1440\n",
      "weighted avg       0.00      0.00      0.00      1440\n",
      "\n",
      "classification_report for random forest\n",
      "              precision    recall  f1-score   support\n",
      "\n",
      "           0       0.01      0.01      0.01       360\n",
      "           1       0.00      0.00      0.00       360\n",
      "           2       0.00      0.00      0.00       360\n",
      "           3       0.00      0.00      0.00       360\n",
      "\n",
      "    accuracy                           0.00      1440\n",
      "   macro avg       0.00      0.00      0.00      1440\n",
      "weighted avg       0.00      0.00      0.00      1440\n",
      "\n",
      "classification_report for logistic regression\n",
      "              precision    recall  f1-score   support\n",
      "\n",
      "           0       0.22      0.19      0.20       360\n",
      "           1       0.22      0.18      0.20       360\n",
      "           2       0.22      0.21      0.21       360\n",
      "           3       0.20      0.27      0.23       360\n",
      "\n",
      "    accuracy                           0.21      1440\n",
      "   macro avg       0.21      0.21      0.21      1440\n",
      "weighted avg       0.21      0.21      0.21      1440\n",
      "\n"
     ]
    }
   ],
   "source": [
    "from sklearn.metrics import classification_report\n",
    "print(\"classification_report for knn\")\n",
    "print(classification_report(y_test,y_pred_knn))\n",
    "print(\"classification_report for decision tree\")\n",
    "print(classification_report(y_test,y_pred_dt))\n",
    "print(\"classification_report for random forest\")\n",
    "print(classification_report(y_test,y_pred_rf))\n",
    "print(\"classification_report for logistic regression\")\n",
    "print(classification_report(y_test,y_pred_lr))"
   ]
  },
  {
   "cell_type": "code",
   "execution_count": 43,
   "id": "81f32be6",
   "metadata": {
    "execution": {
     "iopub.execute_input": "2024-08-11T12:02:30.596838Z",
     "iopub.status.busy": "2024-08-11T12:02:30.595749Z",
     "iopub.status.idle": "2024-08-11T12:02:30.778144Z",
     "shell.execute_reply": "2024-08-11T12:02:30.776737Z"
    },
    "papermill": {
     "duration": 0.214443,
     "end_time": "2024-08-11T12:02:30.781445",
     "exception": false,
     "start_time": "2024-08-11T12:02:30.567002",
     "status": "completed"
    },
    "tags": []
   },
   "outputs": [],
   "source": [
    "from imblearn.over_sampling import SMOTE\n",
    "sm=SMOTE()"
   ]
  },
  {
   "cell_type": "code",
   "execution_count": 44,
   "id": "0ee46eb8",
   "metadata": {
    "execution": {
     "iopub.execute_input": "2024-08-11T12:02:30.840547Z",
     "iopub.status.busy": "2024-08-11T12:02:30.839892Z",
     "iopub.status.idle": "2024-08-11T12:02:30.849768Z",
     "shell.execute_reply": "2024-08-11T12:02:30.848519Z"
    },
    "papermill": {
     "duration": 0.043045,
     "end_time": "2024-08-11T12:02:30.852977",
     "exception": false,
     "start_time": "2024-08-11T12:02:30.809932",
     "status": "completed"
    },
    "tags": []
   },
   "outputs": [],
   "source": [
    "X_train_ov,y_train_ov=sm.fit_resample(X_train_sc,y_train)"
   ]
  },
  {
   "cell_type": "code",
   "execution_count": 45,
   "id": "817763dd",
   "metadata": {
    "execution": {
     "iopub.execute_input": "2024-08-11T12:02:30.911963Z",
     "iopub.status.busy": "2024-08-11T12:02:30.911529Z",
     "iopub.status.idle": "2024-08-11T12:02:30.918663Z",
     "shell.execute_reply": "2024-08-11T12:02:30.917262Z"
    },
    "papermill": {
     "duration": 0.040169,
     "end_time": "2024-08-11T12:02:30.921671",
     "exception": false,
     "start_time": "2024-08-11T12:02:30.881502",
     "status": "completed"
    },
    "tags": []
   },
   "outputs": [
    {
     "name": "stdout",
     "output_type": "stream",
     "text": [
      "4320\n",
      "4320\n"
     ]
    }
   ],
   "source": [
    "print(len(X_train_sc))\n",
    "print(len(X_train_ov))"
   ]
  },
  {
   "cell_type": "code",
   "execution_count": 46,
   "id": "9c700cc4",
   "metadata": {
    "execution": {
     "iopub.execute_input": "2024-08-11T12:02:30.981715Z",
     "iopub.status.busy": "2024-08-11T12:02:30.980623Z",
     "iopub.status.idle": "2024-08-11T12:02:30.987850Z",
     "shell.execute_reply": "2024-08-11T12:02:30.986571Z"
    },
    "papermill": {
     "duration": 0.041078,
     "end_time": "2024-08-11T12:02:30.991236",
     "exception": false,
     "start_time": "2024-08-11T12:02:30.950158",
     "status": "completed"
    },
    "tags": []
   },
   "outputs": [],
   "source": [
    "lr_ov=LogisticRegression()\n",
    "knn_ov=KNeighborsClassifier()\n",
    "dt_ov=DecisionTreeClassifier()\n",
    "rf_ov=RandomForestClassifier()"
   ]
  },
  {
   "cell_type": "code",
   "execution_count": 47,
   "id": "def2326d",
   "metadata": {
    "execution": {
     "iopub.execute_input": "2024-08-11T12:02:31.054639Z",
     "iopub.status.busy": "2024-08-11T12:02:31.054057Z",
     "iopub.status.idle": "2024-08-11T12:02:31.975027Z",
     "shell.execute_reply": "2024-08-11T12:02:31.973542Z"
    },
    "papermill": {
     "duration": 0.956779,
     "end_time": "2024-08-11T12:02:31.978144",
     "exception": false,
     "start_time": "2024-08-11T12:02:31.021365",
     "status": "completed"
    },
    "tags": []
   },
   "outputs": [],
   "source": [
    "lr_ov.fit(X_train_ov,y_train_ov)\n",
    "knn_ov.fit(X_train_ov,y_train_ov)\n",
    "dt_ov.fit(X_train_ov,y_train_ov)\n",
    "rf_ov.fit(X_train_ov,y_train_ov)\n",
    "\n",
    "y_pred_lr_ov=lr_ov.predict(X_test_sc)\n",
    "y_pred_knn_ov=knn_ov.predict(X_test_sc)\n",
    "y_pred_dt_ov=dt_ov.predict(X_test_sc)\n",
    "y_pred_rf_ov=rf_ov.predict(X_test_sc)"
   ]
  },
  {
   "cell_type": "code",
   "execution_count": 48,
   "id": "a7a402ca",
   "metadata": {
    "execution": {
     "iopub.execute_input": "2024-08-11T12:02:32.037102Z",
     "iopub.status.busy": "2024-08-11T12:02:32.036612Z",
     "iopub.status.idle": "2024-08-11T12:02:32.089610Z",
     "shell.execute_reply": "2024-08-11T12:02:32.088094Z"
    },
    "papermill": {
     "duration": 0.085857,
     "end_time": "2024-08-11T12:02:32.092916",
     "exception": false,
     "start_time": "2024-08-11T12:02:32.007059",
     "status": "completed"
    },
    "tags": []
   },
   "outputs": [
    {
     "name": "stdout",
     "output_type": "stream",
     "text": [
      "              precision    recall  f1-score   support\n",
      "\n",
      "           0       0.04      0.07      0.05       360\n",
      "           1       0.05      0.05      0.05       360\n",
      "           2       0.05      0.04      0.05       360\n",
      "           3       0.04      0.02      0.03       360\n",
      "\n",
      "    accuracy                           0.05      1440\n",
      "   macro avg       0.05      0.05      0.04      1440\n",
      "weighted avg       0.05      0.05      0.04      1440\n",
      "\n",
      "              precision    recall  f1-score   support\n",
      "\n",
      "           0       0.00      0.01      0.01       360\n",
      "           1       0.00      0.00      0.00       360\n",
      "           2       0.00      0.00      0.00       360\n",
      "           3       0.00      0.00      0.00       360\n",
      "\n",
      "    accuracy                           0.00      1440\n",
      "   macro avg       0.00      0.00      0.00      1440\n",
      "weighted avg       0.00      0.00      0.00      1440\n",
      "\n",
      "              precision    recall  f1-score   support\n",
      "\n",
      "           0       0.01      0.01      0.01       360\n",
      "           1       0.00      0.00      0.00       360\n",
      "           2       0.00      0.00      0.00       360\n",
      "           3       0.00      0.00      0.00       360\n",
      "\n",
      "    accuracy                           0.00      1440\n",
      "   macro avg       0.00      0.00      0.00      1440\n",
      "weighted avg       0.00      0.00      0.00      1440\n",
      "\n",
      "              precision    recall  f1-score   support\n",
      "\n",
      "           0       0.22      0.19      0.20       360\n",
      "           1       0.22      0.18      0.20       360\n",
      "           2       0.22      0.21      0.21       360\n",
      "           3       0.20      0.27      0.23       360\n",
      "\n",
      "    accuracy                           0.21      1440\n",
      "   macro avg       0.21      0.21      0.21      1440\n",
      "weighted avg       0.21      0.21      0.21      1440\n",
      "\n"
     ]
    }
   ],
   "source": [
    "print(classification_report(y_test,y_pred_knn_ov))\n",
    "print(classification_report(y_test,y_pred_dt_ov))\n",
    "print(classification_report(y_test,y_pred_rf_ov))\n",
    "print(classification_report(y_test,y_pred_lr_ov))"
   ]
  },
  {
   "cell_type": "code",
   "execution_count": null,
   "id": "19b25842",
   "metadata": {
    "papermill": {
     "duration": 0.027224,
     "end_time": "2024-08-11T12:02:32.147355",
     "exception": false,
     "start_time": "2024-08-11T12:02:32.120131",
     "status": "completed"
    },
    "tags": []
   },
   "outputs": [],
   "source": []
  },
  {
   "cell_type": "code",
   "execution_count": null,
   "id": "23c8a60c",
   "metadata": {
    "papermill": {
     "duration": 0.026975,
     "end_time": "2024-08-11T12:02:32.201651",
     "exception": false,
     "start_time": "2024-08-11T12:02:32.174676",
     "status": "completed"
    },
    "tags": []
   },
   "outputs": [],
   "source": []
  }
 ],
 "metadata": {
  "kaggle": {
   "accelerator": "none",
   "dataSources": [
    {
     "datasetId": 3720726,
     "sourceId": 6445785,
     "sourceType": "datasetVersion"
    }
   ],
   "dockerImageVersionId": 30732,
   "isGpuEnabled": false,
   "isInternetEnabled": false,
   "language": "python",
   "sourceType": "notebook"
  },
  "kernelspec": {
   "display_name": "Python 3",
   "language": "python",
   "name": "python3"
  },
  "language_info": {
   "codemirror_mode": {
    "name": "ipython",
    "version": 3
   },
   "file_extension": ".py",
   "mimetype": "text/x-python",
   "name": "python",
   "nbconvert_exporter": "python",
   "pygments_lexer": "ipython3",
   "version": "3.10.13"
  },
  "papermill": {
   "default_parameters": {},
   "duration": 76.815892,
   "end_time": "2024-08-11T12:02:33.757814",
   "environment_variables": {},
   "exception": null,
   "input_path": "__notebook__.ipynb",
   "output_path": "__notebook__.ipynb",
   "parameters": {},
   "start_time": "2024-08-11T12:01:16.941922",
   "version": "2.5.0"
  }
 },
 "nbformat": 4,
 "nbformat_minor": 5
}
