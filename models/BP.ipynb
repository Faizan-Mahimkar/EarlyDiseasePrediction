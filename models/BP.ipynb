{
  "nbformat": 4,
  "nbformat_minor": 0,
  "metadata": {
    "colab": {
      "provenance": []
    },
    "kernelspec": {
      "name": "python3",
      "display_name": "Python 3"
    },
    "language_info": {
      "name": "python"
    }
  },
  "cells": [
    {
      "cell_type": "code",
      "source": [
        "import pandas as pd\n",
        "import numpy as np\n",
        "from sklearn.model_selection import train_test_split\n",
        "from sklearn.preprocessing import StandardScaler\n",
        "\n",
        "data = pd.read_csv('bp.csv')\n",
        "\n",
        "print(data.head())\n",
        "\n",
        "print(data.isnull().sum())\n",
        "\n",
        "features = data.drop('Adrenal_and_thyroid_disorders', axis=1)\n",
        "target = data['Adrenal_and_thyroid_disorders']\n",
        "\n",
        "X_train, X_test, y_train, y_test = train_test_split(features, target, test_size=0.2, random_state=42)\n",
        "\n",
        "scaler = StandardScaler()\n",
        "X_train_scaled = scaler.fit_transform(X_train)\n",
        "X_test_scaled = scaler.transform(X_test)\n",
        "from sklearn.linear_model import LinearRegression\n",
        "from sklearn.metrics import mean_squared_error, r2_score\n"
      ],
      "metadata": {
        "colab": {
          "base_uri": "https://localhost:8080/"
        },
        "id": "jHiS6dYyojey",
        "outputId": "f603bb0b-cd57-4f14-ac54-1de2eac5be08"
      },
      "execution_count": 7,
      "outputs": [
        {
          "output_type": "stream",
          "name": "stdout",
          "text": [
            "   Patient_Number  Blood_Pressure_Abnormality  Level_of_Hemoglobin  \\\n",
            "0               1                           1                11.28   \n",
            "1               2                           0                 9.75   \n",
            "2               3                           1                10.79   \n",
            "3               4                           0                11.00   \n",
            "4               5                           1                14.17   \n",
            "\n",
            "   Genetic_Pedigree_Coefficient  Age  BMI  Sex  Pregnancy  Smoking  \\\n",
            "0                          0.90   34   23    1        1.0        0   \n",
            "1                          0.23   54   33    1        NaN        0   \n",
            "2                          0.91   70   49    0        NaN        0   \n",
            "3                          0.43   71   50    0        NaN        0   \n",
            "4                          0.83   52   19    0        NaN        0   \n",
            "\n",
            "   Physical_activity  salt_content_in_the_diet  alcohol_consumption_per_day  \\\n",
            "0              45961                     48071                          NaN   \n",
            "1              26106                     25333                        205.0   \n",
            "2               9995                     29465                         67.0   \n",
            "3              10635                      7439                        242.0   \n",
            "4              15619                     49644                        397.0   \n",
            "\n",
            "   Level_of_Stress  Chronic_kidney_disease  Adrenal_and_thyroid_disorders  \n",
            "0                2                       1                              1  \n",
            "1                3                       0                              0  \n",
            "2                2                       1                              0  \n",
            "3                1                       1                              0  \n",
            "4                2                       0                              0  \n",
            "Patient_Number                      0\n",
            "Blood_Pressure_Abnormality          0\n",
            "Level_of_Hemoglobin                 0\n",
            "Genetic_Pedigree_Coefficient       92\n",
            "Age                                 0\n",
            "BMI                                 0\n",
            "Sex                                 0\n",
            "Pregnancy                        1558\n",
            "Smoking                             0\n",
            "Physical_activity                   0\n",
            "salt_content_in_the_diet            0\n",
            "alcohol_consumption_per_day       242\n",
            "Level_of_Stress                     0\n",
            "Chronic_kidney_disease              0\n",
            "Adrenal_and_thyroid_disorders       0\n",
            "dtype: int64\n"
          ]
        }
      ]
    },
    {
      "cell_type": "code",
      "source": [
        "print(data.isnull().sum())"
      ],
      "metadata": {
        "colab": {
          "base_uri": "https://localhost:8080/"
        },
        "id": "eGw-sbvMojkj",
        "outputId": "385d648f-7d01-46d4-e5db-53651e7543a0"
      },
      "execution_count": 9,
      "outputs": [
        {
          "output_type": "stream",
          "name": "stdout",
          "text": [
            "Patient_Number                      0\n",
            "Blood_Pressure_Abnormality          0\n",
            "Level_of_Hemoglobin                 0\n",
            "Genetic_Pedigree_Coefficient       92\n",
            "Age                                 0\n",
            "BMI                                 0\n",
            "Sex                                 0\n",
            "Pregnancy                        1558\n",
            "Smoking                             0\n",
            "Physical_activity                   0\n",
            "salt_content_in_the_diet            0\n",
            "alcohol_consumption_per_day       242\n",
            "Level_of_Stress                     0\n",
            "Chronic_kidney_disease              0\n",
            "Adrenal_and_thyroid_disorders       0\n",
            "dtype: int64\n"
          ]
        }
      ]
    },
    {
      "cell_type": "code",
      "source": [
        "data_cleaned = data.dropna()"
      ],
      "metadata": {
        "id": "Bu_YBpWdpXVi"
      },
      "execution_count": 10,
      "outputs": []
    },
    {
      "cell_type": "code",
      "source": [
        "data.fillna(data.mean(), inplace=True)"
      ],
      "metadata": {
        "id": "uW7yVRkqpY3L"
      },
      "execution_count": 11,
      "outputs": []
    },
    {
      "cell_type": "code",
      "source": [
        "data = pd.read_csv('bp.csv')\n",
        "print(data.isnull().sum())\n",
        "data_cleaned = data.dropna()\n",
        "features = data_cleaned.drop('Chronic_kidney_disease', axis=1)\n",
        "target = data_cleaned['Chronic_kidney_disease']\n",
        "X_train, X_test, y_train, y_test = train_test_split(features, target, test_size=0.2, random_state=42)\n",
        "scaler = StandardScaler()\n",
        "X_train_scaled = scaler.fit_transform(X_train)\n",
        "X_test_scaled = scaler.transform(X_test)\n",
        "model = LinearRegression()\n",
        "model.fit(X_train_scaled, y_train)\n",
        "y_pred = model.predict(X_test_scaled)\n",
        "mse = mean_squared_error(y_test, y_pred)\n",
        "r2 = r2_score(y_test, y_pred)\n",
        "print(f'Mean Squared Error: {mse:.2f}')\n",
        "print(f'R^2 Score: {r2:.2f}')"
      ],
      "metadata": {
        "colab": {
          "base_uri": "https://localhost:8080/"
        },
        "id": "E7YKrZLzpaT-",
        "outputId": "7a0c2abe-57eb-4b92-b1fd-9e64abc78890"
      },
      "execution_count": 12,
      "outputs": [
        {
          "output_type": "stream",
          "name": "stdout",
          "text": [
            "Patient_Number                      0\n",
            "Blood_Pressure_Abnormality          0\n",
            "Level_of_Hemoglobin                 0\n",
            "Genetic_Pedigree_Coefficient       92\n",
            "Age                                 0\n",
            "BMI                                 0\n",
            "Sex                                 0\n",
            "Pregnancy                        1558\n",
            "Smoking                             0\n",
            "Physical_activity                   0\n",
            "salt_content_in_the_diet            0\n",
            "alcohol_consumption_per_day       242\n",
            "Level_of_Stress                     0\n",
            "Chronic_kidney_disease              0\n",
            "Adrenal_and_thyroid_disorders       0\n",
            "dtype: int64\n",
            "Mean Squared Error: 0.19\n",
            "R^2 Score: 0.24\n"
          ]
        }
      ]
    },
    {
      "cell_type": "code",
      "source": [
        "\n",
        "print(f'Mean Squared Error: {mse:.2f}')\n",
        "print(f'R^2 Score: {r2:.2f}')"
      ],
      "metadata": {
        "colab": {
          "base_uri": "https://localhost:8080/"
        },
        "id": "uQow2Cs0pjA2",
        "outputId": "a84db858-159d-46be-8fe8-3f3c1b8e3843"
      },
      "execution_count": 14,
      "outputs": [
        {
          "output_type": "stream",
          "name": "stdout",
          "text": [
            "Mean Squared Error: 0.19\n",
            "R^2 Score: 0.24\n"
          ]
        }
      ]
    },
    {
      "cell_type": "code",
      "source": [],
      "metadata": {
        "id": "R_IJAEQ6prBX"
      },
      "execution_count": null,
      "outputs": []
    }
  ]
}